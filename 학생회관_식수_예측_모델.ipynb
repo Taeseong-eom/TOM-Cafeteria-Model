{
  "nbformat": 4,
  "nbformat_minor": 0,
  "metadata": {
    "colab": {
      "provenance": [],
      "mount_file_id": "12gX034zTIMAIzziOVJzG8mtssGhrGceH",
      "authorship_tag": "ABX9TyOEnBiBMjO0D/bFqyotYuWy",
      "include_colab_link": true
    },
    "kernelspec": {
      "name": "python3",
      "display_name": "Python 3"
    },
    "language_info": {
      "name": "python"
    }
  },
  "cells": [
    {
      "cell_type": "markdown",
      "metadata": {
        "id": "view-in-github",
        "colab_type": "text"
      },
      "source": [
        "<a href=\"https://colab.research.google.com/github/Taeseong-eom/TOM-Cafeteria-Model/blob/main/%ED%95%99%EC%83%9D%ED%9A%8C%EA%B4%80_%EC%8B%9D%EC%88%98_%EC%98%88%EC%B8%A1_%EB%AA%A8%EB%8D%B8.ipynb\" target=\"_parent\"><img src=\"https://colab.research.google.com/assets/colab-badge.svg\" alt=\"Open In Colab\"/></a>"
      ]
    },
    {
      "cell_type": "code",
      "source": [
        "!sudo apt-get install -y fonts-nanum\n",
        "!sudo fc-cache -fv\n",
        "!rm ~/.cache/matplotlib -rf\n"
      ],
      "metadata": {
        "colab": {
          "base_uri": "https://localhost:8080/"
        },
        "id": "SbmZYK-XojX0",
        "outputId": "1e5a6799-7a0a-45a8-aafe-ed7b38e566c7"
      },
      "execution_count": 581,
      "outputs": [
        {
          "output_type": "stream",
          "name": "stdout",
          "text": [
            "Reading package lists... Done\n",
            "Building dependency tree... Done\n",
            "Reading state information... Done\n",
            "fonts-nanum is already the newest version (20200506-1).\n",
            "0 upgraded, 0 newly installed, 0 to remove and 45 not upgraded.\n",
            "/usr/share/fonts: caching, new cache contents: 0 fonts, 1 dirs\n",
            "/usr/share/fonts/truetype: caching, new cache contents: 0 fonts, 3 dirs\n",
            "/usr/share/fonts/truetype/humor-sans: caching, new cache contents: 1 fonts, 0 dirs\n",
            "/usr/share/fonts/truetype/liberation: caching, new cache contents: 16 fonts, 0 dirs\n",
            "/usr/share/fonts/truetype/nanum: caching, new cache contents: 12 fonts, 0 dirs\n",
            "/usr/local/share/fonts: caching, new cache contents: 0 fonts, 0 dirs\n",
            "/root/.local/share/fonts: skipping, no such directory\n",
            "/root/.fonts: skipping, no such directory\n",
            "/usr/share/fonts/truetype: skipping, looped directory detected\n",
            "/usr/share/fonts/truetype/humor-sans: skipping, looped directory detected\n",
            "/usr/share/fonts/truetype/liberation: skipping, looped directory detected\n",
            "/usr/share/fonts/truetype/nanum: skipping, looped directory detected\n",
            "/var/cache/fontconfig: cleaning cache directory\n",
            "/root/.cache/fontconfig: not cleaning non-existent cache directory\n",
            "/root/.fontconfig: not cleaning non-existent cache directory\n",
            "fc-cache: succeeded\n"
          ]
        }
      ]
    },
    {
      "cell_type": "code",
      "source": [
        "import matplotlib.pyplot as plt\n",
        "\n",
        "plt.rc('font', family='NanumBarunGothic')"
      ],
      "metadata": {
        "id": "-RiL0EB-mB9u"
      },
      "execution_count": 582,
      "outputs": []
    },
    {
      "cell_type": "code",
      "source": [
        "from google.colab import drive\n",
        "drive.mount('/content/drive')"
      ],
      "metadata": {
        "id": "9tA9ma5Sfu4X",
        "colab": {
          "base_uri": "https://localhost:8080/"
        },
        "outputId": "8cb36905-3100-4646-e5d6-4eec10584772"
      },
      "execution_count": 558,
      "outputs": [
        {
          "output_type": "stream",
          "name": "stdout",
          "text": [
            "Drive already mounted at /content/drive; to attempt to forcibly remount, call drive.mount(\"/content/drive\", force_remount=True).\n"
          ]
        }
      ]
    },
    {
      "cell_type": "code",
      "execution_count": 559,
      "metadata": {
        "id": "lIMP4kiWtUDz"
      },
      "outputs": [],
      "source": [
        "import pandas as pd\n",
        "import numpy as np\n",
        "import sklearn\n",
        "import matplotlib.pyplot as plt"
      ]
    },
    {
      "cell_type": "code",
      "source": [
        "data = pd.read_excel(\"/content/drive/MyDrive/Colab Notebooks/명진당식수/학관 식수 예측 모델/식수.xlsx\")"
      ],
      "metadata": {
        "id": "EuI1v7L5f20t"
      },
      "execution_count": 560,
      "outputs": []
    },
    {
      "cell_type": "code",
      "source": [
        "data"
      ],
      "metadata": {
        "id": "GrQxZEBShAg_",
        "colab": {
          "base_uri": "https://localhost:8080/",
          "height": 527
        },
        "outputId": "79b2eabc-50f2-4902-821e-baf6d7884256"
      },
      "execution_count": 561,
      "outputs": [
        {
          "output_type": "execute_result",
          "data": {
            "text/plain": [
              "            날짜      학관메뉴 학관분류메뉴  평균기온  일강수량   요일   학관식수  전주 식수  요일 평균 식수  \\\n",
              "0   2023-03-13  목살스테이크덮밥     육류   3.0   0.0    월  482.0    NaN       522   \n",
              "1   2023-03-14  콩나물불고기덮밥     육류   8.6   0.0    화  463.0    NaN       528   \n",
              "2   2023-03-15       가츠동    돈까스   8.5   0.0    수  602.0    NaN       495   \n",
              "3   2023-03-16    치킨마요덮밥     육류   4.5   0.0    목  496.0    NaN       435   \n",
              "4   2023-03-17    햄야채볶음밥     밥류   6.4   0.0    금  180.0    NaN       218   \n",
              "..         ...       ...    ...   ...   ...  ...    ...    ...       ...   \n",
              "450        NaT       NaN    NaN   NaN   NaN  NaN    NaN    NaN       495   \n",
              "451        NaT       NaN    NaN   NaN   NaN  NaN    NaN    NaN       435   \n",
              "452        NaT       NaN    NaN   NaN   NaN  NaN    NaN    NaN       218   \n",
              "453        NaT       NaN    NaN   NaN   NaN  NaN    NaN    NaN       150   \n",
              "454        NaT       NaN    NaN   NaN   NaN  NaN    NaN    NaN       154   \n",
              "\n",
              "     시험기간  ...  종강주  시험끝목금  공휴일유무  학기번호   주말  휴일 전날 휴일 다음날  연휴 전날  연휴 다음날   매움  \n",
              "0     0.0  ...  0.0    0.0    0.0   1.0  0.0    0.0    1.0    0.0     0.0  0.0  \n",
              "1     0.0  ...  0.0    0.0    0.0   1.0  0.0    0.0    0.0    0.0     0.0  0.0  \n",
              "2     0.0  ...  0.0    0.0    0.0   1.0  0.0    0.0    0.0    0.0     0.0  0.0  \n",
              "3     0.0  ...  0.0    0.0    0.0   1.0  0.0    0.0    0.0    0.0     0.0  0.0  \n",
              "4     0.0  ...  0.0    0.0    0.0   1.0  0.0    1.0    0.0    0.0     0.0  0.0  \n",
              "..    ...  ...  ...    ...    ...   ...  ...    ...    ...    ...     ...  ...  \n",
              "450   NaN  ...  NaN    NaN    NaN   NaN  NaN    NaN    NaN    NaN     NaN  NaN  \n",
              "451   NaN  ...  NaN    NaN    NaN   NaN  NaN    NaN    NaN    NaN     NaN  NaN  \n",
              "452   NaN  ...  NaN    NaN    NaN   NaN  NaN    NaN    NaN    NaN     NaN  NaN  \n",
              "453   NaN  ...  NaN    NaN    NaN   NaN  NaN    NaN    NaN    NaN     NaN  NaN  \n",
              "454   NaN  ...  NaN    NaN    NaN   NaN  NaN    NaN    NaN    NaN     NaN  NaN  \n",
              "\n",
              "[455 rows x 30 columns]"
            ],
            "text/html": [
              "\n",
              "  <div id=\"df-980871f9-f766-4dd0-a325-30904704081e\" class=\"colab-df-container\">\n",
              "    <div>\n",
              "<style scoped>\n",
              "    .dataframe tbody tr th:only-of-type {\n",
              "        vertical-align: middle;\n",
              "    }\n",
              "\n",
              "    .dataframe tbody tr th {\n",
              "        vertical-align: top;\n",
              "    }\n",
              "\n",
              "    .dataframe thead th {\n",
              "        text-align: right;\n",
              "    }\n",
              "</style>\n",
              "<table border=\"1\" class=\"dataframe\">\n",
              "  <thead>\n",
              "    <tr style=\"text-align: right;\">\n",
              "      <th></th>\n",
              "      <th>날짜</th>\n",
              "      <th>학관메뉴</th>\n",
              "      <th>학관분류메뉴</th>\n",
              "      <th>평균기온</th>\n",
              "      <th>일강수량</th>\n",
              "      <th>요일</th>\n",
              "      <th>학관식수</th>\n",
              "      <th>전주 식수</th>\n",
              "      <th>요일 평균 식수</th>\n",
              "      <th>시험기간</th>\n",
              "      <th>...</th>\n",
              "      <th>종강주</th>\n",
              "      <th>시험끝목금</th>\n",
              "      <th>공휴일유무</th>\n",
              "      <th>학기번호</th>\n",
              "      <th>주말</th>\n",
              "      <th>휴일 전날</th>\n",
              "      <th>휴일 다음날</th>\n",
              "      <th>연휴 전날</th>\n",
              "      <th>연휴 다음날</th>\n",
              "      <th>매움</th>\n",
              "    </tr>\n",
              "  </thead>\n",
              "  <tbody>\n",
              "    <tr>\n",
              "      <th>0</th>\n",
              "      <td>2023-03-13</td>\n",
              "      <td>목살스테이크덮밥</td>\n",
              "      <td>육류</td>\n",
              "      <td>3.0</td>\n",
              "      <td>0.0</td>\n",
              "      <td>월</td>\n",
              "      <td>482.0</td>\n",
              "      <td>NaN</td>\n",
              "      <td>522</td>\n",
              "      <td>0.0</td>\n",
              "      <td>...</td>\n",
              "      <td>0.0</td>\n",
              "      <td>0.0</td>\n",
              "      <td>0.0</td>\n",
              "      <td>1.0</td>\n",
              "      <td>0.0</td>\n",
              "      <td>0.0</td>\n",
              "      <td>1.0</td>\n",
              "      <td>0.0</td>\n",
              "      <td>0.0</td>\n",
              "      <td>0.0</td>\n",
              "    </tr>\n",
              "    <tr>\n",
              "      <th>1</th>\n",
              "      <td>2023-03-14</td>\n",
              "      <td>콩나물불고기덮밥</td>\n",
              "      <td>육류</td>\n",
              "      <td>8.6</td>\n",
              "      <td>0.0</td>\n",
              "      <td>화</td>\n",
              "      <td>463.0</td>\n",
              "      <td>NaN</td>\n",
              "      <td>528</td>\n",
              "      <td>0.0</td>\n",
              "      <td>...</td>\n",
              "      <td>0.0</td>\n",
              "      <td>0.0</td>\n",
              "      <td>0.0</td>\n",
              "      <td>1.0</td>\n",
              "      <td>0.0</td>\n",
              "      <td>0.0</td>\n",
              "      <td>0.0</td>\n",
              "      <td>0.0</td>\n",
              "      <td>0.0</td>\n",
              "      <td>0.0</td>\n",
              "    </tr>\n",
              "    <tr>\n",
              "      <th>2</th>\n",
              "      <td>2023-03-15</td>\n",
              "      <td>가츠동</td>\n",
              "      <td>돈까스</td>\n",
              "      <td>8.5</td>\n",
              "      <td>0.0</td>\n",
              "      <td>수</td>\n",
              "      <td>602.0</td>\n",
              "      <td>NaN</td>\n",
              "      <td>495</td>\n",
              "      <td>0.0</td>\n",
              "      <td>...</td>\n",
              "      <td>0.0</td>\n",
              "      <td>0.0</td>\n",
              "      <td>0.0</td>\n",
              "      <td>1.0</td>\n",
              "      <td>0.0</td>\n",
              "      <td>0.0</td>\n",
              "      <td>0.0</td>\n",
              "      <td>0.0</td>\n",
              "      <td>0.0</td>\n",
              "      <td>0.0</td>\n",
              "    </tr>\n",
              "    <tr>\n",
              "      <th>3</th>\n",
              "      <td>2023-03-16</td>\n",
              "      <td>치킨마요덮밥</td>\n",
              "      <td>육류</td>\n",
              "      <td>4.5</td>\n",
              "      <td>0.0</td>\n",
              "      <td>목</td>\n",
              "      <td>496.0</td>\n",
              "      <td>NaN</td>\n",
              "      <td>435</td>\n",
              "      <td>0.0</td>\n",
              "      <td>...</td>\n",
              "      <td>0.0</td>\n",
              "      <td>0.0</td>\n",
              "      <td>0.0</td>\n",
              "      <td>1.0</td>\n",
              "      <td>0.0</td>\n",
              "      <td>0.0</td>\n",
              "      <td>0.0</td>\n",
              "      <td>0.0</td>\n",
              "      <td>0.0</td>\n",
              "      <td>0.0</td>\n",
              "    </tr>\n",
              "    <tr>\n",
              "      <th>4</th>\n",
              "      <td>2023-03-17</td>\n",
              "      <td>햄야채볶음밥</td>\n",
              "      <td>밥류</td>\n",
              "      <td>6.4</td>\n",
              "      <td>0.0</td>\n",
              "      <td>금</td>\n",
              "      <td>180.0</td>\n",
              "      <td>NaN</td>\n",
              "      <td>218</td>\n",
              "      <td>0.0</td>\n",
              "      <td>...</td>\n",
              "      <td>0.0</td>\n",
              "      <td>0.0</td>\n",
              "      <td>0.0</td>\n",
              "      <td>1.0</td>\n",
              "      <td>0.0</td>\n",
              "      <td>1.0</td>\n",
              "      <td>0.0</td>\n",
              "      <td>0.0</td>\n",
              "      <td>0.0</td>\n",
              "      <td>0.0</td>\n",
              "    </tr>\n",
              "    <tr>\n",
              "      <th>...</th>\n",
              "      <td>...</td>\n",
              "      <td>...</td>\n",
              "      <td>...</td>\n",
              "      <td>...</td>\n",
              "      <td>...</td>\n",
              "      <td>...</td>\n",
              "      <td>...</td>\n",
              "      <td>...</td>\n",
              "      <td>...</td>\n",
              "      <td>...</td>\n",
              "      <td>...</td>\n",
              "      <td>...</td>\n",
              "      <td>...</td>\n",
              "      <td>...</td>\n",
              "      <td>...</td>\n",
              "      <td>...</td>\n",
              "      <td>...</td>\n",
              "      <td>...</td>\n",
              "      <td>...</td>\n",
              "      <td>...</td>\n",
              "      <td>...</td>\n",
              "    </tr>\n",
              "    <tr>\n",
              "      <th>450</th>\n",
              "      <td>NaT</td>\n",
              "      <td>NaN</td>\n",
              "      <td>NaN</td>\n",
              "      <td>NaN</td>\n",
              "      <td>NaN</td>\n",
              "      <td>NaN</td>\n",
              "      <td>NaN</td>\n",
              "      <td>NaN</td>\n",
              "      <td>495</td>\n",
              "      <td>NaN</td>\n",
              "      <td>...</td>\n",
              "      <td>NaN</td>\n",
              "      <td>NaN</td>\n",
              "      <td>NaN</td>\n",
              "      <td>NaN</td>\n",
              "      <td>NaN</td>\n",
              "      <td>NaN</td>\n",
              "      <td>NaN</td>\n",
              "      <td>NaN</td>\n",
              "      <td>NaN</td>\n",
              "      <td>NaN</td>\n",
              "    </tr>\n",
              "    <tr>\n",
              "      <th>451</th>\n",
              "      <td>NaT</td>\n",
              "      <td>NaN</td>\n",
              "      <td>NaN</td>\n",
              "      <td>NaN</td>\n",
              "      <td>NaN</td>\n",
              "      <td>NaN</td>\n",
              "      <td>NaN</td>\n",
              "      <td>NaN</td>\n",
              "      <td>435</td>\n",
              "      <td>NaN</td>\n",
              "      <td>...</td>\n",
              "      <td>NaN</td>\n",
              "      <td>NaN</td>\n",
              "      <td>NaN</td>\n",
              "      <td>NaN</td>\n",
              "      <td>NaN</td>\n",
              "      <td>NaN</td>\n",
              "      <td>NaN</td>\n",
              "      <td>NaN</td>\n",
              "      <td>NaN</td>\n",
              "      <td>NaN</td>\n",
              "    </tr>\n",
              "    <tr>\n",
              "      <th>452</th>\n",
              "      <td>NaT</td>\n",
              "      <td>NaN</td>\n",
              "      <td>NaN</td>\n",
              "      <td>NaN</td>\n",
              "      <td>NaN</td>\n",
              "      <td>NaN</td>\n",
              "      <td>NaN</td>\n",
              "      <td>NaN</td>\n",
              "      <td>218</td>\n",
              "      <td>NaN</td>\n",
              "      <td>...</td>\n",
              "      <td>NaN</td>\n",
              "      <td>NaN</td>\n",
              "      <td>NaN</td>\n",
              "      <td>NaN</td>\n",
              "      <td>NaN</td>\n",
              "      <td>NaN</td>\n",
              "      <td>NaN</td>\n",
              "      <td>NaN</td>\n",
              "      <td>NaN</td>\n",
              "      <td>NaN</td>\n",
              "    </tr>\n",
              "    <tr>\n",
              "      <th>453</th>\n",
              "      <td>NaT</td>\n",
              "      <td>NaN</td>\n",
              "      <td>NaN</td>\n",
              "      <td>NaN</td>\n",
              "      <td>NaN</td>\n",
              "      <td>NaN</td>\n",
              "      <td>NaN</td>\n",
              "      <td>NaN</td>\n",
              "      <td>150</td>\n",
              "      <td>NaN</td>\n",
              "      <td>...</td>\n",
              "      <td>NaN</td>\n",
              "      <td>NaN</td>\n",
              "      <td>NaN</td>\n",
              "      <td>NaN</td>\n",
              "      <td>NaN</td>\n",
              "      <td>NaN</td>\n",
              "      <td>NaN</td>\n",
              "      <td>NaN</td>\n",
              "      <td>NaN</td>\n",
              "      <td>NaN</td>\n",
              "    </tr>\n",
              "    <tr>\n",
              "      <th>454</th>\n",
              "      <td>NaT</td>\n",
              "      <td>NaN</td>\n",
              "      <td>NaN</td>\n",
              "      <td>NaN</td>\n",
              "      <td>NaN</td>\n",
              "      <td>NaN</td>\n",
              "      <td>NaN</td>\n",
              "      <td>NaN</td>\n",
              "      <td>154</td>\n",
              "      <td>NaN</td>\n",
              "      <td>...</td>\n",
              "      <td>NaN</td>\n",
              "      <td>NaN</td>\n",
              "      <td>NaN</td>\n",
              "      <td>NaN</td>\n",
              "      <td>NaN</td>\n",
              "      <td>NaN</td>\n",
              "      <td>NaN</td>\n",
              "      <td>NaN</td>\n",
              "      <td>NaN</td>\n",
              "      <td>NaN</td>\n",
              "    </tr>\n",
              "  </tbody>\n",
              "</table>\n",
              "<p>455 rows × 30 columns</p>\n",
              "</div>\n",
              "    <div class=\"colab-df-buttons\">\n",
              "\n",
              "  <div class=\"colab-df-container\">\n",
              "    <button class=\"colab-df-convert\" onclick=\"convertToInteractive('df-980871f9-f766-4dd0-a325-30904704081e')\"\n",
              "            title=\"Convert this dataframe to an interactive table.\"\n",
              "            style=\"display:none;\">\n",
              "\n",
              "  <svg xmlns=\"http://www.w3.org/2000/svg\" height=\"24px\" viewBox=\"0 -960 960 960\">\n",
              "    <path d=\"M120-120v-720h720v720H120Zm60-500h600v-160H180v160Zm220 220h160v-160H400v160Zm0 220h160v-160H400v160ZM180-400h160v-160H180v160Zm440 0h160v-160H620v160ZM180-180h160v-160H180v160Zm440 0h160v-160H620v160Z\"/>\n",
              "  </svg>\n",
              "    </button>\n",
              "\n",
              "  <style>\n",
              "    .colab-df-container {\n",
              "      display:flex;\n",
              "      gap: 12px;\n",
              "    }\n",
              "\n",
              "    .colab-df-convert {\n",
              "      background-color: #E8F0FE;\n",
              "      border: none;\n",
              "      border-radius: 50%;\n",
              "      cursor: pointer;\n",
              "      display: none;\n",
              "      fill: #1967D2;\n",
              "      height: 32px;\n",
              "      padding: 0 0 0 0;\n",
              "      width: 32px;\n",
              "    }\n",
              "\n",
              "    .colab-df-convert:hover {\n",
              "      background-color: #E2EBFA;\n",
              "      box-shadow: 0px 1px 2px rgba(60, 64, 67, 0.3), 0px 1px 3px 1px rgba(60, 64, 67, 0.15);\n",
              "      fill: #174EA6;\n",
              "    }\n",
              "\n",
              "    .colab-df-buttons div {\n",
              "      margin-bottom: 4px;\n",
              "    }\n",
              "\n",
              "    [theme=dark] .colab-df-convert {\n",
              "      background-color: #3B4455;\n",
              "      fill: #D2E3FC;\n",
              "    }\n",
              "\n",
              "    [theme=dark] .colab-df-convert:hover {\n",
              "      background-color: #434B5C;\n",
              "      box-shadow: 0px 1px 3px 1px rgba(0, 0, 0, 0.15);\n",
              "      filter: drop-shadow(0px 1px 2px rgba(0, 0, 0, 0.3));\n",
              "      fill: #FFFFFF;\n",
              "    }\n",
              "  </style>\n",
              "\n",
              "    <script>\n",
              "      const buttonEl =\n",
              "        document.querySelector('#df-980871f9-f766-4dd0-a325-30904704081e button.colab-df-convert');\n",
              "      buttonEl.style.display =\n",
              "        google.colab.kernel.accessAllowed ? 'block' : 'none';\n",
              "\n",
              "      async function convertToInteractive(key) {\n",
              "        const element = document.querySelector('#df-980871f9-f766-4dd0-a325-30904704081e');\n",
              "        const dataTable =\n",
              "          await google.colab.kernel.invokeFunction('convertToInteractive',\n",
              "                                                    [key], {});\n",
              "        if (!dataTable) return;\n",
              "\n",
              "        const docLinkHtml = 'Like what you see? Visit the ' +\n",
              "          '<a target=\"_blank\" href=https://colab.research.google.com/notebooks/data_table.ipynb>data table notebook</a>'\n",
              "          + ' to learn more about interactive tables.';\n",
              "        element.innerHTML = '';\n",
              "        dataTable['output_type'] = 'display_data';\n",
              "        await google.colab.output.renderOutput(dataTable, element);\n",
              "        const docLink = document.createElement('div');\n",
              "        docLink.innerHTML = docLinkHtml;\n",
              "        element.appendChild(docLink);\n",
              "      }\n",
              "    </script>\n",
              "  </div>\n",
              "\n",
              "\n",
              "<div id=\"df-339c5781-68e4-40cc-b565-7a78e15cefdb\">\n",
              "  <button class=\"colab-df-quickchart\" onclick=\"quickchart('df-339c5781-68e4-40cc-b565-7a78e15cefdb')\"\n",
              "            title=\"Suggest charts\"\n",
              "            style=\"display:none;\">\n",
              "\n",
              "<svg xmlns=\"http://www.w3.org/2000/svg\" height=\"24px\"viewBox=\"0 0 24 24\"\n",
              "     width=\"24px\">\n",
              "    <g>\n",
              "        <path d=\"M19 3H5c-1.1 0-2 .9-2 2v14c0 1.1.9 2 2 2h14c1.1 0 2-.9 2-2V5c0-1.1-.9-2-2-2zM9 17H7v-7h2v7zm4 0h-2V7h2v10zm4 0h-2v-4h2v4z\"/>\n",
              "    </g>\n",
              "</svg>\n",
              "  </button>\n",
              "\n",
              "<style>\n",
              "  .colab-df-quickchart {\n",
              "      --bg-color: #E8F0FE;\n",
              "      --fill-color: #1967D2;\n",
              "      --hover-bg-color: #E2EBFA;\n",
              "      --hover-fill-color: #174EA6;\n",
              "      --disabled-fill-color: #AAA;\n",
              "      --disabled-bg-color: #DDD;\n",
              "  }\n",
              "\n",
              "  [theme=dark] .colab-df-quickchart {\n",
              "      --bg-color: #3B4455;\n",
              "      --fill-color: #D2E3FC;\n",
              "      --hover-bg-color: #434B5C;\n",
              "      --hover-fill-color: #FFFFFF;\n",
              "      --disabled-bg-color: #3B4455;\n",
              "      --disabled-fill-color: #666;\n",
              "  }\n",
              "\n",
              "  .colab-df-quickchart {\n",
              "    background-color: var(--bg-color);\n",
              "    border: none;\n",
              "    border-radius: 50%;\n",
              "    cursor: pointer;\n",
              "    display: none;\n",
              "    fill: var(--fill-color);\n",
              "    height: 32px;\n",
              "    padding: 0;\n",
              "    width: 32px;\n",
              "  }\n",
              "\n",
              "  .colab-df-quickchart:hover {\n",
              "    background-color: var(--hover-bg-color);\n",
              "    box-shadow: 0 1px 2px rgba(60, 64, 67, 0.3), 0 1px 3px 1px rgba(60, 64, 67, 0.15);\n",
              "    fill: var(--button-hover-fill-color);\n",
              "  }\n",
              "\n",
              "  .colab-df-quickchart-complete:disabled,\n",
              "  .colab-df-quickchart-complete:disabled:hover {\n",
              "    background-color: var(--disabled-bg-color);\n",
              "    fill: var(--disabled-fill-color);\n",
              "    box-shadow: none;\n",
              "  }\n",
              "\n",
              "  .colab-df-spinner {\n",
              "    border: 2px solid var(--fill-color);\n",
              "    border-color: transparent;\n",
              "    border-bottom-color: var(--fill-color);\n",
              "    animation:\n",
              "      spin 1s steps(1) infinite;\n",
              "  }\n",
              "\n",
              "  @keyframes spin {\n",
              "    0% {\n",
              "      border-color: transparent;\n",
              "      border-bottom-color: var(--fill-color);\n",
              "      border-left-color: var(--fill-color);\n",
              "    }\n",
              "    20% {\n",
              "      border-color: transparent;\n",
              "      border-left-color: var(--fill-color);\n",
              "      border-top-color: var(--fill-color);\n",
              "    }\n",
              "    30% {\n",
              "      border-color: transparent;\n",
              "      border-left-color: var(--fill-color);\n",
              "      border-top-color: var(--fill-color);\n",
              "      border-right-color: var(--fill-color);\n",
              "    }\n",
              "    40% {\n",
              "      border-color: transparent;\n",
              "      border-right-color: var(--fill-color);\n",
              "      border-top-color: var(--fill-color);\n",
              "    }\n",
              "    60% {\n",
              "      border-color: transparent;\n",
              "      border-right-color: var(--fill-color);\n",
              "    }\n",
              "    80% {\n",
              "      border-color: transparent;\n",
              "      border-right-color: var(--fill-color);\n",
              "      border-bottom-color: var(--fill-color);\n",
              "    }\n",
              "    90% {\n",
              "      border-color: transparent;\n",
              "      border-bottom-color: var(--fill-color);\n",
              "    }\n",
              "  }\n",
              "</style>\n",
              "\n",
              "  <script>\n",
              "    async function quickchart(key) {\n",
              "      const quickchartButtonEl =\n",
              "        document.querySelector('#' + key + ' button');\n",
              "      quickchartButtonEl.disabled = true;  // To prevent multiple clicks.\n",
              "      quickchartButtonEl.classList.add('colab-df-spinner');\n",
              "      try {\n",
              "        const charts = await google.colab.kernel.invokeFunction(\n",
              "            'suggestCharts', [key], {});\n",
              "      } catch (error) {\n",
              "        console.error('Error during call to suggestCharts:', error);\n",
              "      }\n",
              "      quickchartButtonEl.classList.remove('colab-df-spinner');\n",
              "      quickchartButtonEl.classList.add('colab-df-quickchart-complete');\n",
              "    }\n",
              "    (() => {\n",
              "      let quickchartButtonEl =\n",
              "        document.querySelector('#df-339c5781-68e4-40cc-b565-7a78e15cefdb button');\n",
              "      quickchartButtonEl.style.display =\n",
              "        google.colab.kernel.accessAllowed ? 'block' : 'none';\n",
              "    })();\n",
              "  </script>\n",
              "</div>\n",
              "\n",
              "  <div id=\"id_ac5a7dca-53a7-4efb-ac7b-08d1ec8bdc6c\">\n",
              "    <style>\n",
              "      .colab-df-generate {\n",
              "        background-color: #E8F0FE;\n",
              "        border: none;\n",
              "        border-radius: 50%;\n",
              "        cursor: pointer;\n",
              "        display: none;\n",
              "        fill: #1967D2;\n",
              "        height: 32px;\n",
              "        padding: 0 0 0 0;\n",
              "        width: 32px;\n",
              "      }\n",
              "\n",
              "      .colab-df-generate:hover {\n",
              "        background-color: #E2EBFA;\n",
              "        box-shadow: 0px 1px 2px rgba(60, 64, 67, 0.3), 0px 1px 3px 1px rgba(60, 64, 67, 0.15);\n",
              "        fill: #174EA6;\n",
              "      }\n",
              "\n",
              "      [theme=dark] .colab-df-generate {\n",
              "        background-color: #3B4455;\n",
              "        fill: #D2E3FC;\n",
              "      }\n",
              "\n",
              "      [theme=dark] .colab-df-generate:hover {\n",
              "        background-color: #434B5C;\n",
              "        box-shadow: 0px 1px 3px 1px rgba(0, 0, 0, 0.15);\n",
              "        filter: drop-shadow(0px 1px 2px rgba(0, 0, 0, 0.3));\n",
              "        fill: #FFFFFF;\n",
              "      }\n",
              "    </style>\n",
              "    <button class=\"colab-df-generate\" onclick=\"generateWithVariable('data')\"\n",
              "            title=\"Generate code using this dataframe.\"\n",
              "            style=\"display:none;\">\n",
              "\n",
              "  <svg xmlns=\"http://www.w3.org/2000/svg\" height=\"24px\"viewBox=\"0 0 24 24\"\n",
              "       width=\"24px\">\n",
              "    <path d=\"M7,19H8.4L18.45,9,17,7.55,7,17.6ZM5,21V16.75L18.45,3.32a2,2,0,0,1,2.83,0l1.4,1.43a1.91,1.91,0,0,1,.58,1.4,1.91,1.91,0,0,1-.58,1.4L9.25,21ZM18.45,9,17,7.55Zm-12,3A5.31,5.31,0,0,0,4.9,8.1,5.31,5.31,0,0,0,1,6.5,5.31,5.31,0,0,0,4.9,4.9,5.31,5.31,0,0,0,6.5,1,5.31,5.31,0,0,0,8.1,4.9,5.31,5.31,0,0,0,12,6.5,5.46,5.46,0,0,0,6.5,12Z\"/>\n",
              "  </svg>\n",
              "    </button>\n",
              "    <script>\n",
              "      (() => {\n",
              "      const buttonEl =\n",
              "        document.querySelector('#id_ac5a7dca-53a7-4efb-ac7b-08d1ec8bdc6c button.colab-df-generate');\n",
              "      buttonEl.style.display =\n",
              "        google.colab.kernel.accessAllowed ? 'block' : 'none';\n",
              "\n",
              "      buttonEl.onclick = () => {\n",
              "        google.colab.notebook.generateWithVariable('data');\n",
              "      }\n",
              "      })();\n",
              "    </script>\n",
              "  </div>\n",
              "\n",
              "    </div>\n",
              "  </div>\n"
            ],
            "application/vnd.google.colaboratory.intrinsic+json": {
              "type": "dataframe",
              "variable_name": "data"
            }
          },
          "metadata": {},
          "execution_count": 561
        }
      ]
    },
    {
      "cell_type": "code",
      "source": [
        "data.info()"
      ],
      "metadata": {
        "id": "36lT5vRhhBT5",
        "colab": {
          "base_uri": "https://localhost:8080/"
        },
        "outputId": "b5381f5d-c476-400a-d5d5-4f89f6bb7f32"
      },
      "execution_count": 562,
      "outputs": [
        {
          "output_type": "stream",
          "name": "stdout",
          "text": [
            "<class 'pandas.core.frame.DataFrame'>\n",
            "RangeIndex: 455 entries, 0 to 454\n",
            "Data columns (total 30 columns):\n",
            " #   Column    Non-Null Count  Dtype         \n",
            "---  ------    --------------  -----         \n",
            " 0   날짜        429 non-null    datetime64[ns]\n",
            " 1   학관메뉴      207 non-null    object        \n",
            " 2   학관분류메뉴    206 non-null    object        \n",
            " 3   평균기온      383 non-null    float64       \n",
            " 4   일강수량      383 non-null    float64       \n",
            " 5   요일        429 non-null    object        \n",
            " 6   학관식수      195 non-null    float64       \n",
            " 7   전주 식수     195 non-null    float64       \n",
            " 8   요일 평균 식수  455 non-null    int64         \n",
            " 9   시험기간      425 non-null    float64       \n",
            " 10  축제유무      424 non-null    float64       \n",
            " 11  간식배부      426 non-null    float64       \n",
            " 12  예비군유무     425 non-null    float64       \n",
            " 13  평균기온차이    383 non-null    float64       \n",
            " 14  습도        383 non-null    float64       \n",
            " 15  바람속도      383 non-null    float64       \n",
            " 16  명진당분류메뉴   190 non-null    object        \n",
            " 17  주차        287 non-null    float64       \n",
            " 18  방학유무      383 non-null    float64       \n",
            " 19  개강주       383 non-null    float64       \n",
            " 20  종강주       383 non-null    float64       \n",
            " 21  시험끝목금     383 non-null    float64       \n",
            " 22  공휴일유무     383 non-null    float64       \n",
            " 23  학기번호      278 non-null    float64       \n",
            " 24  주말        448 non-null    float64       \n",
            " 25  휴일 전날     187 non-null    float64       \n",
            " 26  휴일 다음날    210 non-null    float64       \n",
            " 27  연휴 전날     425 non-null    float64       \n",
            " 28  연휴 다음날    426 non-null    float64       \n",
            " 29  매움        426 non-null    float64       \n",
            "dtypes: datetime64[ns](1), float64(24), int64(1), object(4)\n",
            "memory usage: 106.8+ KB\n"
          ]
        }
      ]
    },
    {
      "cell_type": "code",
      "source": [
        "notnulldata = data[data['학관메뉴'].notnull()]"
      ],
      "metadata": {
        "id": "hqdzH0FRhDx4"
      },
      "execution_count": 563,
      "outputs": []
    },
    {
      "cell_type": "code",
      "source": [
        "data = notnulldata.drop(['날짜', '학관메뉴'], axis=1)"
      ],
      "metadata": {
        "id": "JLaiOB-KhhAT"
      },
      "execution_count": 564,
      "outputs": []
    },
    {
      "cell_type": "code",
      "source": [
        "data = data[data['학관식수'].notnull()]"
      ],
      "metadata": {
        "id": "UlbwtjQjitMU"
      },
      "execution_count": 565,
      "outputs": []
    },
    {
      "cell_type": "code",
      "source": [
        "data = data[data['학관식수'] != 0]"
      ],
      "metadata": {
        "id": "WenRPR9Ri5vt"
      },
      "execution_count": 566,
      "outputs": []
    },
    {
      "cell_type": "code",
      "source": [
        "# data.drop(['평균기온', '습도', '일강수량', '바람속도'], axis=1, inplace=True)\n",
        "# data.drop(['평균기온차이'],axis=1,inplace=True)"
      ],
      "metadata": {
        "id": "Pqgd-TsYfcTw"
      },
      "execution_count": 567,
      "outputs": []
    },
    {
      "cell_type": "code",
      "source": [
        "data.drop(['평균기온', '일강수량', '간식배부', '습도', '바람속도', '평균기온차이', '습도', '바람속도', '주말', '연휴 전날'], axis=1, inplace=True)\n"
      ],
      "metadata": {
        "id": "5Rowx6SCjBMD"
      },
      "execution_count": 568,
      "outputs": []
    },
    {
      "cell_type": "code",
      "source": [
        "data.info()"
      ],
      "metadata": {
        "colab": {
          "base_uri": "https://localhost:8080/"
        },
        "id": "TNDp8BismIkQ",
        "outputId": "dd6160fc-3a9f-42ef-8a3b-04414dd0c9e5"
      },
      "execution_count": 569,
      "outputs": [
        {
          "output_type": "stream",
          "name": "stdout",
          "text": [
            "<class 'pandas.core.frame.DataFrame'>\n",
            "Index: 195 entries, 0 to 414\n",
            "Data columns (total 20 columns):\n",
            " #   Column    Non-Null Count  Dtype  \n",
            "---  ------    --------------  -----  \n",
            " 0   학관분류메뉴    194 non-null    object \n",
            " 1   요일        195 non-null    object \n",
            " 2   학관식수      195 non-null    float64\n",
            " 3   전주 식수     171 non-null    float64\n",
            " 4   요일 평균 식수  195 non-null    int64  \n",
            " 5   시험기간      195 non-null    float64\n",
            " 6   축제유무      195 non-null    float64\n",
            " 7   예비군유무     195 non-null    float64\n",
            " 8   명진당분류메뉴   175 non-null    object \n",
            " 9   주차        195 non-null    float64\n",
            " 10  방학유무      163 non-null    float64\n",
            " 11  개강주       163 non-null    float64\n",
            " 12  종강주       163 non-null    float64\n",
            " 13  시험끝목금     163 non-null    float64\n",
            " 14  공휴일유무     163 non-null    float64\n",
            " 15  학기번호      195 non-null    float64\n",
            " 16  휴일 전날     175 non-null    float64\n",
            " 17  휴일 다음날    181 non-null    float64\n",
            " 18  연휴 다음날    195 non-null    float64\n",
            " 19  매움        195 non-null    float64\n",
            "dtypes: float64(16), int64(1), object(3)\n",
            "memory usage: 32.0+ KB\n"
          ]
        }
      ]
    },
    {
      "cell_type": "code",
      "source": [
        "data.drop(['시험기간','축제유무','예비군유무','주차','방학유무','개강주','종강주','공휴일유무','매움'], axis=1, inplace=True)\n"
      ],
      "metadata": {
        "id": "7yHPcinjmMCN"
      },
      "execution_count": 570,
      "outputs": []
    },
    {
      "cell_type": "code",
      "source": [
        "data.info()"
      ],
      "metadata": {
        "colab": {
          "base_uri": "https://localhost:8080/"
        },
        "id": "q7WzywUpw0Bv",
        "outputId": "9a5ffe0d-b0bc-4e2f-991e-f190f62a9d4c"
      },
      "execution_count": 571,
      "outputs": [
        {
          "output_type": "stream",
          "name": "stdout",
          "text": [
            "<class 'pandas.core.frame.DataFrame'>\n",
            "Index: 195 entries, 0 to 414\n",
            "Data columns (total 11 columns):\n",
            " #   Column    Non-Null Count  Dtype  \n",
            "---  ------    --------------  -----  \n",
            " 0   학관분류메뉴    194 non-null    object \n",
            " 1   요일        195 non-null    object \n",
            " 2   학관식수      195 non-null    float64\n",
            " 3   전주 식수     171 non-null    float64\n",
            " 4   요일 평균 식수  195 non-null    int64  \n",
            " 5   명진당분류메뉴   175 non-null    object \n",
            " 6   시험끝목금     163 non-null    float64\n",
            " 7   학기번호      195 non-null    float64\n",
            " 8   휴일 전날     175 non-null    float64\n",
            " 9   휴일 다음날    181 non-null    float64\n",
            " 10  연휴 다음날    195 non-null    float64\n",
            "dtypes: float64(7), int64(1), object(3)\n",
            "memory usage: 18.3+ KB\n"
          ]
        }
      ]
    },
    {
      "cell_type": "code",
      "source": [
        "data.drop([], axis=1, inplace=True)\n"
      ],
      "metadata": {
        "id": "1GfeFsAOmGjZ"
      },
      "execution_count": 572,
      "outputs": []
    },
    {
      "cell_type": "code",
      "source": [
        "data.drop(['연휴 다음날'], axis=1, inplace=True)"
      ],
      "metadata": {
        "id": "mTNrhyDShj9T"
      },
      "execution_count": 573,
      "outputs": []
    },
    {
      "cell_type": "code",
      "source": [
        "data.dropna(inplace=True)"
      ],
      "metadata": {
        "id": "pvzbMt48giW5"
      },
      "execution_count": 574,
      "outputs": []
    },
    {
      "cell_type": "code",
      "source": [
        "data.isnull().sum()"
      ],
      "metadata": {
        "id": "wyffKilmjEdc",
        "colab": {
          "base_uri": "https://localhost:8080/"
        },
        "outputId": "076df5ed-695a-42d3-c43d-977aa9586833"
      },
      "execution_count": 575,
      "outputs": [
        {
          "output_type": "execute_result",
          "data": {
            "text/plain": [
              "학관분류메뉴      0\n",
              "요일          0\n",
              "학관식수        0\n",
              "전주 식수       0\n",
              "요일 평균 식수    0\n",
              "명진당분류메뉴     0\n",
              "시험끝목금       0\n",
              "학기번호        0\n",
              "휴일 전날       0\n",
              "휴일 다음날      0\n",
              "dtype: int64"
            ]
          },
          "metadata": {},
          "execution_count": 575
        }
      ]
    },
    {
      "cell_type": "code",
      "source": [
        "data.info()"
      ],
      "metadata": {
        "id": "9qNKFXmvnw1A",
        "colab": {
          "base_uri": "https://localhost:8080/"
        },
        "outputId": "94f45e9f-4234-4a60-c54c-8533ace9f63c"
      },
      "execution_count": 576,
      "outputs": [
        {
          "output_type": "stream",
          "name": "stdout",
          "text": [
            "<class 'pandas.core.frame.DataFrame'>\n",
            "Index: 131 entries, 7 to 382\n",
            "Data columns (total 10 columns):\n",
            " #   Column    Non-Null Count  Dtype  \n",
            "---  ------    --------------  -----  \n",
            " 0   학관분류메뉴    131 non-null    object \n",
            " 1   요일        131 non-null    object \n",
            " 2   학관식수      131 non-null    float64\n",
            " 3   전주 식수     131 non-null    float64\n",
            " 4   요일 평균 식수  131 non-null    int64  \n",
            " 5   명진당분류메뉴   131 non-null    object \n",
            " 6   시험끝목금     131 non-null    float64\n",
            " 7   학기번호      131 non-null    float64\n",
            " 8   휴일 전날     131 non-null    float64\n",
            " 9   휴일 다음날    131 non-null    float64\n",
            "dtypes: float64(6), int64(1), object(3)\n",
            "memory usage: 11.3+ KB\n"
          ]
        }
      ]
    },
    {
      "cell_type": "code",
      "source": [],
      "metadata": {
        "id": "rPWNvya3xEiA"
      },
      "execution_count": 576,
      "outputs": []
    },
    {
      "cell_type": "code",
      "source": [
        "df = pd.DataFrame(data)\n",
        "\n",
        "# '학관식수' 컬럼을 제외한 모든 수치형 컬럼 리스트를 생성\n",
        "columns = df.columns.drop('학관식수')\n",
        "\n",
        "# '식수' 컬럼과 다른 모든 수치형 컬럼들 간의 scatter plot 그리기\n",
        "fig, ax = plt.subplots(len(columns), 1, figsize=(6, 4*len(columns)))\n",
        "\n",
        "for i, column in enumerate(columns):\n",
        "    ax[i].scatter(df['학관식수'], df[column])\n",
        "    ax[i].set_title(f\"'학관식수'와 '{column}'의 Scatter Plot\")\n",
        "    ax[i].set_xlabel('학관식수')\n",
        "    ax[i].set_ylabel(column)\n",
        "\n",
        "plt.tight_layout()\n",
        "plt.show()"
      ],
      "metadata": {
        "id": "65wNJuBokarb",
        "colab": {
          "base_uri": "https://localhost:8080/",
          "height": 1000
        },
        "outputId": "8c087ccb-eb28-4a52-bc8e-8892d36f6141"
      },
      "execution_count": 577,
      "outputs": [
        {
          "output_type": "display_data",
          "data": {
            "text/plain": [
              "<Figure size 600x3600 with 9 Axes>"
            ],
            "image/png": "[encoded data removed]"
          },
          "metadata": {}
        }
      ]
    },
    {
      "cell_type": "code",
      "source": [
        "# import pandas as pd\n",
        "\n",
        "# # 원본 데이터 복사\n",
        "# cleaned_data = data.copy()\n",
        "\n",
        "# def remove_outliers(df, column):\n",
        "#     \"\"\"DataFrame에서 주어진 컬럼의 이상치를 제거하는 함수\"\"\"\n",
        "#     Q1 = df[column].quantile(0.25)\n",
        "#     Q3 = df[column].quantile(0.75)\n",
        "#     IQR = Q3 - Q1\n",
        "#     lower_bound = Q1 - 1.5 * IQR\n",
        "#     upper_bound = Q3 + 1.5 * IQR\n",
        "\n",
        "#     # 이상치가 아닌 데이터만 필터링\n",
        "#     return df[(df[column] >= lower_bound) & (df[column] <= upper_bound)]\n",
        "\n",
        "# # 식수 컬럼을 제외한 모든 컬럼에 대해 반복\n",
        "# for column in cleaned_data.columns:\n",
        "#     if column != '학관식수':  # 식수 컬럼을 제외\n",
        "#         # 각 컬럼의 유니크한 값에 대해 그룹화하고, 그룹별로 식수 컬럼의 이상치를 제거\n",
        "#         cleaned_data = (cleaned_data.groupby(column)\n",
        "#                                     .apply(lambda group: remove_outliers(group, '학관식수'))\n",
        "#                                     .reset_index(drop=True))\n",
        "\n",
        "\n",
        "\n",
        "# print(\"이상치 제거 후 데이터:\")\n",
        "# df = pd.DataFrame(cleaned_data)"
      ],
      "metadata": {
        "id": "iIcOqKfCxuwe"
      },
      "execution_count": 578,
      "outputs": []
    },
    {
      "cell_type": "code",
      "source": [
        "\n",
        "\n",
        "# # '식수' 컬럼을 제외한 모든 수치형 컬럼 리스트를 생성\n",
        "# columns = df.columns.drop('식수')\n",
        "\n",
        "# # '식수' 컬럼과 다른 모든 수치형 컬럼들 간의 scatter plot 그리기\n",
        "# fig, ax = plt.subplots(len(columns), 1, figsize=(6, 4*len(columns)))\n",
        "\n",
        "# for i, column in enumerate(columns):\n",
        "#     ax[i].scatter(df['식수'], df[column])\n",
        "#     ax[i].set_title(f\"'식수'와 '{column}'의 Scatter Plot\")\n",
        "#     ax[i].set_xlabel('식수')\n",
        "#     ax[i].set_ylabel(column)\n",
        "\n",
        "# plt.tight_layout()\n",
        "# plt.show()"
      ],
      "metadata": {
        "id": "BG4dmDMcyFjf"
      },
      "execution_count": 579,
      "outputs": []
    },
    {
      "cell_type": "code",
      "source": [
        "# # 특정 컬럼들에 대해 빈도수가 3이하인 값들을 가진 행을 삭제하는 함수\n",
        "# def filter_rows_by_frequency(df, columns):\n",
        "#     # 각 컬럼별로 빈도수를 계산하여 조건에 맞는 값을 필터링\n",
        "#     for column in columns:\n",
        "#         # 해당 컬럼의 값별 빈도수 계산\n",
        "#         freq = df[column].value_counts()\n",
        "#         # 빈도수가 3 초과인 값들만 선택\n",
        "#         valid_values = freq[freq > 2].index\n",
        "#         # 유효한 값들만 포함되도록 데이터프레임 필터링\n",
        "#         df = df[df[column].isin(valid_values)]\n",
        "#     return df\n",
        "\n",
        "# # '주차', '학기번호', '요일', '분류메뉴', '학관분류메뉴' 컬럼에 대해 함수 적용\n",
        "# df = filter_rows_by_frequency(df, [ '학기번호', '요일', '학관분류메뉴', '명진당분류메뉴'])"
      ],
      "metadata": {
        "id": "Ph1HMjy9sQTQ"
      },
      "execution_count": 580,
      "outputs": []
    },
    {
      "cell_type": "code",
      "source": [
        "# 수치형 데이터 컬럼만 선택\n",
        "numeric_cols = df.select_dtypes(include=['float64']).columns\n",
        "\n",
        "# 이상치를 처리할 빈 딕셔너리 생성\n",
        "outliers_dict = {}\n",
        "\n",
        "for col in numeric_cols:\n",
        "    # 1분위수(Q1)와 3분위수(Q3) 계산\n",
        "    Q1 = df[col].quantile(0.25)\n",
        "    Q3 = df[col].quantile(0.75)\n",
        "\n",
        "    # IQR 계산\n",
        "    IQR = Q3 - Q1\n",
        "\n",
        "    # 이상치 범위를 설정 (1.5 * IQR 규칙을 사용)\n",
        "    lower_bound = Q1 - 1.5 * IQR\n",
        "    upper_bound = Q3 + 1.5 * IQR\n",
        "\n",
        "    # 이상치 인덱스를 찾아낸 후 딕셔너리에 추가\n",
        "    outliers = df[(df[col] < lower_bound) | (df[col] > upper_bound)]\n",
        "    outliers_dict[col] = outliers.index.tolist()\n",
        "\n",
        "    # 이상치를 중앙값으로 대체\n",
        "    median_value = df[col].median()\n",
        "    df.loc[(df[col] < lower_bound) | (df[col] > upper_bound), col] = median_value\n",
        "\n",
        "# 이상치가 처리된 데이터프레임 확인\n",
        "\n",
        "print(df.info())\n",
        "\n",
        "# 이상치 인덱스 정보 확인\n",
        "print(outliers_dict)\n"
      ],
      "metadata": {
        "id": "A3gEfid8ofKF",
        "colab": {
          "base_uri": "https://localhost:8080/"
        },
        "outputId": "b712117a-46af-4275-c4bd-54e09fe020e7"
      },
      "execution_count": 583,
      "outputs": [
        {
          "output_type": "stream",
          "name": "stdout",
          "text": [
            "<class 'pandas.core.frame.DataFrame'>\n",
            "Index: 131 entries, 7 to 382\n",
            "Data columns (total 10 columns):\n",
            " #   Column    Non-Null Count  Dtype  \n",
            "---  ------    --------------  -----  \n",
            " 0   학관분류메뉴    131 non-null    object \n",
            " 1   요일        131 non-null    object \n",
            " 2   학관식수      131 non-null    float64\n",
            " 3   전주 식수     131 non-null    float64\n",
            " 4   요일 평균 식수  131 non-null    int64  \n",
            " 5   명진당분류메뉴   131 non-null    object \n",
            " 6   시험끝목금     131 non-null    float64\n",
            " 7   학기번호      131 non-null    float64\n",
            " 8   휴일 전날     131 non-null    float64\n",
            " 9   휴일 다음날    131 non-null    float64\n",
            "dtypes: float64(6), int64(1), object(3)\n",
            "memory usage: 11.3+ KB\n",
            "None\n",
            "{'학관식수': [], '전주 식수': [], '시험끝목금': [45, 46, 227, 228, 276, 277], '학기번호': [], '휴일 전날': [11, 18, 25, 32, 39, 46, 74, 81, 88, 93, 179, 186, 190, 193, 198, 214, 221, 228, 235, 242, 249, 256, 263, 270, 277, 368, 375, 382], '휴일 다음날': [7, 14, 21, 28, 35, 42, 49, 56, 63, 70, 78, 86, 91, 179, 182, 189, 192, 196, 205, 224, 231, 238, 245, 252, 259, 266, 273, 364, 371, 378]}\n"
          ]
        }
      ]
    },
    {
      "cell_type": "code",
      "source": [
        "df.info()"
      ],
      "metadata": {
        "colab": {
          "base_uri": "https://localhost:8080/"
        },
        "id": "QVrndsouvnfe",
        "outputId": "c5dabbba-8863-4a1a-891a-d5a60b808ae5"
      },
      "execution_count": 584,
      "outputs": [
        {
          "output_type": "stream",
          "name": "stdout",
          "text": [
            "<class 'pandas.core.frame.DataFrame'>\n",
            "Index: 131 entries, 7 to 382\n",
            "Data columns (total 10 columns):\n",
            " #   Column    Non-Null Count  Dtype  \n",
            "---  ------    --------------  -----  \n",
            " 0   학관분류메뉴    131 non-null    object \n",
            " 1   요일        131 non-null    object \n",
            " 2   학관식수      131 non-null    float64\n",
            " 3   전주 식수     131 non-null    float64\n",
            " 4   요일 평균 식수  131 non-null    int64  \n",
            " 5   명진당분류메뉴   131 non-null    object \n",
            " 6   시험끝목금     131 non-null    float64\n",
            " 7   학기번호      131 non-null    float64\n",
            " 8   휴일 전날     131 non-null    float64\n",
            " 9   휴일 다음날    131 non-null    float64\n",
            "dtypes: float64(6), int64(1), object(3)\n",
            "memory usage: 11.3+ KB\n"
          ]
        }
      ]
    },
    {
      "cell_type": "code",
      "source": [
        "# columns_to_check = ['시험끝목금', '예비군유무', '연휴 다음날', '연휴 전날', '공휴일유무', '종강주', '개강주', '방학유무', '간식배부', '축제유무', '시험기간']\n",
        "\n",
        "# # 조건에 맞는 행을 찾기 위해, 지정된 컬럼들 중 하나라도 1인 행에 대한 불리언 마스크 생성\n",
        "# rows_to_remove = df[columns_to_check].any(axis=1)\n",
        "\n",
        "# # 조건에 맞는 행을 제외하고 데이터 프레임 재구성\n",
        "# df = df[~rows_to_remove]"
      ],
      "metadata": {
        "id": "Oc7en4zXPRG8"
      },
      "execution_count": 585,
      "outputs": []
    },
    {
      "cell_type": "code",
      "source": [
        "# # 일단 간단하게 만들기 위해 평상시 식수만 예측할 수 있도록 가능한 모든 변수를 삭제하겠음\n",
        "# df_filtered = df[(df['시험끝목금'] != 1) & (df['예비군유무'] != 1) & (df['연휴 다음날'] != 1) & (df['연휴 전날'] != 1) & (df['공휴일유무'] != 1) & (df['종강주'] != 1)& (df['개강주'] != 1)& (df['방학유무'] != 1)& (df['간식배부'] != 1)& (df['축제유무'] != 1) & (df['시험기간'] != 1) ]\n",
        "\n",
        "# # '시험끝목금'과 '예비군유무' 컬럼을 제거합니다.\n",
        "# df = df_filtered.drop(columns=['시험끝목금', '예비군유무', '연휴 다음날', '연휴 전날', '공휴일유무', '종강주', '개강주', '방학유무', '간식배부', '축제유무', '시험기간'])"
      ],
      "metadata": {
        "id": "PHJ7G094n36F"
      },
      "execution_count": 586,
      "outputs": []
    },
    {
      "cell_type": "code",
      "source": [
        "# df.drop(['학관식수'], axis=1, inplace=True)"
      ],
      "metadata": {
        "id": "z3E9nQM-3ibh"
      },
      "execution_count": 587,
      "outputs": []
    },
    {
      "cell_type": "code",
      "source": [
        "df.info()"
      ],
      "metadata": {
        "colab": {
          "base_uri": "https://localhost:8080/"
        },
        "id": "y3yzYhCqCW6U",
        "outputId": "ff1b1b4f-a495-4e73-c19f-e88b0d486767"
      },
      "execution_count": 588,
      "outputs": [
        {
          "output_type": "stream",
          "name": "stdout",
          "text": [
            "<class 'pandas.core.frame.DataFrame'>\n",
            "Index: 131 entries, 7 to 382\n",
            "Data columns (total 10 columns):\n",
            " #   Column    Non-Null Count  Dtype  \n",
            "---  ------    --------------  -----  \n",
            " 0   학관분류메뉴    131 non-null    object \n",
            " 1   요일        131 non-null    object \n",
            " 2   학관식수      131 non-null    float64\n",
            " 3   전주 식수     131 non-null    float64\n",
            " 4   요일 평균 식수  131 non-null    int64  \n",
            " 5   명진당분류메뉴   131 non-null    object \n",
            " 6   시험끝목금     131 non-null    float64\n",
            " 7   학기번호      131 non-null    float64\n",
            " 8   휴일 전날     131 non-null    float64\n",
            " 9   휴일 다음날    131 non-null    float64\n",
            "dtypes: float64(6), int64(1), object(3)\n",
            "memory usage: 11.3+ KB\n"
          ]
        }
      ]
    },
    {
      "cell_type": "code",
      "source": [
        "df['학관분류메뉴'].unique()"
      ],
      "metadata": {
        "colab": {
          "base_uri": "https://localhost:8080/"
        },
        "id": "ba9ONT7TTA-M",
        "outputId": "2b6ec8f4-fa19-497c-f414-9905cd0741bb"
      },
      "execution_count": 589,
      "outputs": [
        {
          "output_type": "execute_result",
          "data": {
            "text/plain": [
              "array(['육류', '밥류', '돈까스', '비빔밥', '분식류', '면류', '찌개류', '연어', '국밥', '볶음밥'],\n",
              "      dtype=object)"
            ]
          },
          "metadata": {},
          "execution_count": 589
        }
      ]
    },
    {
      "cell_type": "code",
      "source": [
        "df.shape"
      ],
      "metadata": {
        "colab": {
          "base_uri": "https://localhost:8080/"
        },
        "id": "RCPvynteCePS",
        "outputId": "7d5ae5bc-113d-4388-d003-f922ba3f15df"
      },
      "execution_count": 590,
      "outputs": [
        {
          "output_type": "execute_result",
          "data": {
            "text/plain": [
              "(131, 10)"
            ]
          },
          "metadata": {},
          "execution_count": 590
        }
      ]
    },
    {
      "cell_type": "code",
      "source": [
        "df.head()"
      ],
      "metadata": {
        "colab": {
          "base_uri": "https://localhost:8080/",
          "height": 206
        },
        "id": "MOwb50WTDx3-",
        "outputId": "d0c66916-4cd9-4d09-fd2d-5a35bb8fd24e"
      },
      "execution_count": 591,
      "outputs": [
        {
          "output_type": "execute_result",
          "data": {
            "text/plain": [
              "   학관분류메뉴 요일   학관식수  전주 식수  요일 평균 식수 명진당분류메뉴  시험끝목금  학기번호  휴일 전날  휴일 다음날\n",
              "7      육류  월  587.0  482.0       522      육류    0.0   1.0    0.0     0.0\n",
              "8      밥류  화  512.0  463.0       528      찌개    0.0   1.0    0.0     0.0\n",
              "9      육류  수  560.0  602.0       495     비빔밥    0.0   1.0    0.0     0.0\n",
              "10     육류  목  448.0  496.0       435      육류    0.0   1.0    0.0     0.0\n",
              "11     밥류  금  134.0  180.0       218      육류    0.0   1.0    0.0     0.0"
            ],
            "text/html": [
              "\n",
              "  <div id=\"df-7b8bbf66-288b-4e5b-8c00-1b878fb21960\" class=\"colab-df-container\">\n",
              "    <div>\n",
              "<style scoped>\n",
              "    .dataframe tbody tr th:only-of-type {\n",
              "        vertical-align: middle;\n",
              "    }\n",
              "\n",
              "    .dataframe tbody tr th {\n",
              "        vertical-align: top;\n",
              "    }\n",
              "\n",
              "    .dataframe thead th {\n",
              "        text-align: right;\n",
              "    }\n",
              "</style>\n",
              "<table border=\"1\" class=\"dataframe\">\n",
              "  <thead>\n",
              "    <tr style=\"text-align: right;\">\n",
              "      <th></th>\n",
              "      <th>학관분류메뉴</th>\n",
              "      <th>요일</th>\n",
              "      <th>학관식수</th>\n",
              "      <th>전주 식수</th>\n",
              "      <th>요일 평균 식수</th>\n",
              "      <th>명진당분류메뉴</th>\n",
              "      <th>시험끝목금</th>\n",
              "      <th>학기번호</th>\n",
              "      <th>휴일 전날</th>\n",
              "      <th>휴일 다음날</th>\n",
              "    </tr>\n",
              "  </thead>\n",
              "  <tbody>\n",
              "    <tr>\n",
              "      <th>7</th>\n",
              "      <td>육류</td>\n",
              "      <td>월</td>\n",
              "      <td>587.0</td>\n",
              "      <td>482.0</td>\n",
              "      <td>522</td>\n",
              "      <td>육류</td>\n",
              "      <td>0.0</td>\n",
              "      <td>1.0</td>\n",
              "      <td>0.0</td>\n",
              "      <td>0.0</td>\n",
              "    </tr>\n",
              "    <tr>\n",
              "      <th>8</th>\n",
              "      <td>밥류</td>\n",
              "      <td>화</td>\n",
              "      <td>512.0</td>\n",
              "      <td>463.0</td>\n",
              "      <td>528</td>\n",
              "      <td>찌개</td>\n",
              "      <td>0.0</td>\n",
              "      <td>1.0</td>\n",
              "      <td>0.0</td>\n",
              "      <td>0.0</td>\n",
              "    </tr>\n",
              "    <tr>\n",
              "      <th>9</th>\n",
              "      <td>육류</td>\n",
              "      <td>수</td>\n",
              "      <td>560.0</td>\n",
              "      <td>602.0</td>\n",
              "      <td>495</td>\n",
              "      <td>비빔밥</td>\n",
              "      <td>0.0</td>\n",
              "      <td>1.0</td>\n",
              "      <td>0.0</td>\n",
              "      <td>0.0</td>\n",
              "    </tr>\n",
              "    <tr>\n",
              "      <th>10</th>\n",
              "      <td>육류</td>\n",
              "      <td>목</td>\n",
              "      <td>448.0</td>\n",
              "      <td>496.0</td>\n",
              "      <td>435</td>\n",
              "      <td>육류</td>\n",
              "      <td>0.0</td>\n",
              "      <td>1.0</td>\n",
              "      <td>0.0</td>\n",
              "      <td>0.0</td>\n",
              "    </tr>\n",
              "    <tr>\n",
              "      <th>11</th>\n",
              "      <td>밥류</td>\n",
              "      <td>금</td>\n",
              "      <td>134.0</td>\n",
              "      <td>180.0</td>\n",
              "      <td>218</td>\n",
              "      <td>육류</td>\n",
              "      <td>0.0</td>\n",
              "      <td>1.0</td>\n",
              "      <td>0.0</td>\n",
              "      <td>0.0</td>\n",
              "    </tr>\n",
              "  </tbody>\n",
              "</table>\n",
              "</div>\n",
              "    <div class=\"colab-df-buttons\">\n",
              "\n",
              "  <div class=\"colab-df-container\">\n",
              "    <button class=\"colab-df-convert\" onclick=\"convertToInteractive('df-7b8bbf66-288b-4e5b-8c00-1b878fb21960')\"\n",
              "            title=\"Convert this dataframe to an interactive table.\"\n",
              "            style=\"display:none;\">\n",
              "\n",
              "  <svg xmlns=\"http://www.w3.org/2000/svg\" height=\"24px\" viewBox=\"0 -960 960 960\">\n",
              "    <path d=\"M120-120v-720h720v720H120Zm60-500h600v-160H180v160Zm220 220h160v-160H400v160Zm0 220h160v-160H400v160ZM180-400h160v-160H180v160Zm440 0h160v-160H620v160ZM180-180h160v-160H180v160Zm440 0h160v-160H620v160Z\"/>\n",
              "  </svg>\n",
              "    </button>\n",
              "\n",
              "  <style>\n",
              "    .colab-df-container {\n",
              "      display:flex;\n",
              "      gap: 12px;\n",
              "    }\n",
              "\n",
              "    .colab-df-convert {\n",
              "      background-color: #E8F0FE;\n",
              "      border: none;\n",
              "      border-radius: 50%;\n",
              "      cursor: pointer;\n",
              "      display: none;\n",
              "      fill: #1967D2;\n",
              "      height: 32px;\n",
              "      padding: 0 0 0 0;\n",
              "      width: 32px;\n",
              "    }\n",
              "\n",
              "    .colab-df-convert:hover {\n",
              "      background-color: #E2EBFA;\n",
              "      box-shadow: 0px 1px 2px rgba(60, 64, 67, 0.3), 0px 1px 3px 1px rgba(60, 64, 67, 0.15);\n",
              "      fill: #174EA6;\n",
              "    }\n",
              "\n",
              "    .colab-df-buttons div {\n",
              "      margin-bottom: 4px;\n",
              "    }\n",
              "\n",
              "    [theme=dark] .colab-df-convert {\n",
              "      background-color: #3B4455;\n",
              "      fill: #D2E3FC;\n",
              "    }\n",
              "\n",
              "    [theme=dark] .colab-df-convert:hover {\n",
              "      background-color: #434B5C;\n",
              "      box-shadow: 0px 1px 3px 1px rgba(0, 0, 0, 0.15);\n",
              "      filter: drop-shadow(0px 1px 2px rgba(0, 0, 0, 0.3));\n",
              "      fill: #FFFFFF;\n",
              "    }\n",
              "  </style>\n",
              "\n",
              "    <script>\n",
              "      const buttonEl =\n",
              "        document.querySelector('#df-7b8bbf66-288b-4e5b-8c00-1b878fb21960 button.colab-df-convert');\n",
              "      buttonEl.style.display =\n",
              "        google.colab.kernel.accessAllowed ? 'block' : 'none';\n",
              "\n",
              "      async function convertToInteractive(key) {\n",
              "        const element = document.querySelector('#df-7b8bbf66-288b-4e5b-8c00-1b878fb21960');\n",
              "        const dataTable =\n",
              "          await google.colab.kernel.invokeFunction('convertToInteractive',\n",
              "                                                    [key], {});\n",
              "        if (!dataTable) return;\n",
              "\n",
              "        const docLinkHtml = 'Like what you see? Visit the ' +\n",
              "          '<a target=\"_blank\" href=https://colab.research.google.com/notebooks/data_table.ipynb>data table notebook</a>'\n",
              "          + ' to learn more about interactive tables.';\n",
              "        element.innerHTML = '';\n",
              "        dataTable['output_type'] = 'display_data';\n",
              "        await google.colab.output.renderOutput(dataTable, element);\n",
              "        const docLink = document.createElement('div');\n",
              "        docLink.innerHTML = docLinkHtml;\n",
              "        element.appendChild(docLink);\n",
              "      }\n",
              "    </script>\n",
              "  </div>\n",
              "\n",
              "\n",
              "<div id=\"df-f1671614-6107-4b9c-a705-caa2e4fd18f0\">\n",
              "  <button class=\"colab-df-quickchart\" onclick=\"quickchart('df-f1671614-6107-4b9c-a705-caa2e4fd18f0')\"\n",
              "            title=\"Suggest charts\"\n",
              "            style=\"display:none;\">\n",
              "\n",
              "<svg xmlns=\"http://www.w3.org/2000/svg\" height=\"24px\"viewBox=\"0 0 24 24\"\n",
              "     width=\"24px\">\n",
              "    <g>\n",
              "        <path d=\"M19 3H5c-1.1 0-2 .9-2 2v14c0 1.1.9 2 2 2h14c1.1 0 2-.9 2-2V5c0-1.1-.9-2-2-2zM9 17H7v-7h2v7zm4 0h-2V7h2v10zm4 0h-2v-4h2v4z\"/>\n",
              "    </g>\n",
              "</svg>\n",
              "  </button>\n",
              "\n",
              "<style>\n",
              "  .colab-df-quickchart {\n",
              "      --bg-color: #E8F0FE;\n",
              "      --fill-color: #1967D2;\n",
              "      --hover-bg-color: #E2EBFA;\n",
              "      --hover-fill-color: #174EA6;\n",
              "      --disabled-fill-color: #AAA;\n",
              "      --disabled-bg-color: #DDD;\n",
              "  }\n",
              "\n",
              "  [theme=dark] .colab-df-quickchart {\n",
              "      --bg-color: #3B4455;\n",
              "      --fill-color: #D2E3FC;\n",
              "      --hover-bg-color: #434B5C;\n",
              "      --hover-fill-color: #FFFFFF;\n",
              "      --disabled-bg-color: #3B4455;\n",
              "      --disabled-fill-color: #666;\n",
              "  }\n",
              "\n",
              "  .colab-df-quickchart {\n",
              "    background-color: var(--bg-color);\n",
              "    border: none;\n",
              "    border-radius: 50%;\n",
              "    cursor: pointer;\n",
              "    display: none;\n",
              "    fill: var(--fill-color);\n",
              "    height: 32px;\n",
              "    padding: 0;\n",
              "    width: 32px;\n",
              "  }\n",
              "\n",
              "  .colab-df-quickchart:hover {\n",
              "    background-color: var(--hover-bg-color);\n",
              "    box-shadow: 0 1px 2px rgba(60, 64, 67, 0.3), 0 1px 3px 1px rgba(60, 64, 67, 0.15);\n",
              "    fill: var(--button-hover-fill-color);\n",
              "  }\n",
              "\n",
              "  .colab-df-quickchart-complete:disabled,\n",
              "  .colab-df-quickchart-complete:disabled:hover {\n",
              "    background-color: var(--disabled-bg-color);\n",
              "    fill: var(--disabled-fill-color);\n",
              "    box-shadow: none;\n",
              "  }\n",
              "\n",
              "  .colab-df-spinner {\n",
              "    border: 2px solid var(--fill-color);\n",
              "    border-color: transparent;\n",
              "    border-bottom-color: var(--fill-color);\n",
              "    animation:\n",
              "      spin 1s steps(1) infinite;\n",
              "  }\n",
              "\n",
              "  @keyframes spin {\n",
              "    0% {\n",
              "      border-color: transparent;\n",
              "      border-bottom-color: var(--fill-color);\n",
              "      border-left-color: var(--fill-color);\n",
              "    }\n",
              "    20% {\n",
              "      border-color: transparent;\n",
              "      border-left-color: var(--fill-color);\n",
              "      border-top-color: var(--fill-color);\n",
              "    }\n",
              "    30% {\n",
              "      border-color: transparent;\n",
              "      border-left-color: var(--fill-color);\n",
              "      border-top-color: var(--fill-color);\n",
              "      border-right-color: var(--fill-color);\n",
              "    }\n",
              "    40% {\n",
              "      border-color: transparent;\n",
              "      border-right-color: var(--fill-color);\n",
              "      border-top-color: var(--fill-color);\n",
              "    }\n",
              "    60% {\n",
              "      border-color: transparent;\n",
              "      border-right-color: var(--fill-color);\n",
              "    }\n",
              "    80% {\n",
              "      border-color: transparent;\n",
              "      border-right-color: var(--fill-color);\n",
              "      border-bottom-color: var(--fill-color);\n",
              "    }\n",
              "    90% {\n",
              "      border-color: transparent;\n",
              "      border-bottom-color: var(--fill-color);\n",
              "    }\n",
              "  }\n",
              "</style>\n",
              "\n",
              "  <script>\n",
              "    async function quickchart(key) {\n",
              "      const quickchartButtonEl =\n",
              "        document.querySelector('#' + key + ' button');\n",
              "      quickchartButtonEl.disabled = true;  // To prevent multiple clicks.\n",
              "      quickchartButtonEl.classList.add('colab-df-spinner');\n",
              "      try {\n",
              "        const charts = await google.colab.kernel.invokeFunction(\n",
              "            'suggestCharts', [key], {});\n",
              "      } catch (error) {\n",
              "        console.error('Error during call to suggestCharts:', error);\n",
              "      }\n",
              "      quickchartButtonEl.classList.remove('colab-df-spinner');\n",
              "      quickchartButtonEl.classList.add('colab-df-quickchart-complete');\n",
              "    }\n",
              "    (() => {\n",
              "      let quickchartButtonEl =\n",
              "        document.querySelector('#df-f1671614-6107-4b9c-a705-caa2e4fd18f0 button');\n",
              "      quickchartButtonEl.style.display =\n",
              "        google.colab.kernel.accessAllowed ? 'block' : 'none';\n",
              "    })();\n",
              "  </script>\n",
              "</div>\n",
              "\n",
              "    </div>\n",
              "  </div>\n"
            ],
            "application/vnd.google.colaboratory.intrinsic+json": {
              "type": "dataframe",
              "variable_name": "df",
              "summary": "{\n  \"name\": \"df\",\n  \"rows\": 131,\n  \"fields\": [\n    {\n      \"column\": \"\\ud559\\uad00\\ubd84\\ub958\\uba54\\ub274\",\n      \"properties\": {\n        \"dtype\": \"category\",\n        \"num_unique_values\": 10,\n        \"samples\": [\n          \"\\uad6d\\ubc25\",\n          \"\\ubc25\\ub958\",\n          \"\\uba74\\ub958\"\n        ],\n        \"semantic_type\": \"\",\n        \"description\": \"\"\n      }\n    },\n    {\n      \"column\": \"\\uc694\\uc77c\",\n      \"properties\": {\n        \"dtype\": \"category\",\n        \"num_unique_values\": 5,\n        \"samples\": [\n          \"\\ud654\",\n          \"\\uae08\",\n          \"\\uc218\"\n        ],\n        \"semantic_type\": \"\",\n        \"description\": \"\"\n      }\n    },\n    {\n      \"column\": \"\\ud559\\uad00\\uc2dd\\uc218\",\n      \"properties\": {\n        \"dtype\": \"number\",\n        \"std\": 140.29142640156272,\n        \"min\": 134.0,\n        \"max\": 723.0,\n        \"num_unique_values\": 114,\n        \"samples\": [\n          526.0,\n          134.0,\n          533.0\n        ],\n        \"semantic_type\": \"\",\n        \"description\": \"\"\n      }\n    },\n    {\n      \"column\": \"\\uc804\\uc8fc \\uc2dd\\uc218\",\n      \"properties\": {\n        \"dtype\": \"number\",\n        \"std\": 138.73611106841068,\n        \"min\": 121.0,\n        \"max\": 691.0,\n        \"num_unique_values\": 110,\n        \"samples\": [\n          475.0,\n          522.0,\n          180.0\n        ],\n        \"semantic_type\": \"\",\n        \"description\": \"\"\n      }\n    },\n    {\n      \"column\": \"\\uc694\\uc77c \\ud3c9\\uade0 \\uc2dd\\uc218\",\n      \"properties\": {\n        \"dtype\": \"number\",\n        \"std\": 113,\n        \"min\": 218,\n        \"max\": 528,\n        \"num_unique_values\": 5,\n        \"samples\": [\n          528,\n          218,\n          495\n        ],\n        \"semantic_type\": \"\",\n        \"description\": \"\"\n      }\n    },\n    {\n      \"column\": \"\\uba85\\uc9c4\\ub2f9\\ubd84\\ub958\\uba54\\ub274\",\n      \"properties\": {\n        \"dtype\": \"category\",\n        \"num_unique_values\": 15,\n        \"samples\": [\n          \"\\ube75\",\n          \"\\ubd80\\ub300\\ubcf6\\uc74c\",\n          \"\\uc721\\ub958\"\n        ],\n        \"semantic_type\": \"\",\n        \"description\": \"\"\n      }\n    },\n    {\n      \"column\": \"\\uc2dc\\ud5d8\\ub05d\\ubaa9\\uae08\",\n      \"properties\": {\n        \"dtype\": \"number\",\n        \"std\": 0.0,\n        \"min\": 0.0,\n        \"max\": 0.0,\n        \"num_unique_values\": 1,\n        \"samples\": [\n          0.0\n        ],\n        \"semantic_type\": \"\",\n        \"description\": \"\"\n      }\n    },\n    {\n      \"column\": \"\\ud559\\uae30\\ubc88\\ud638\",\n      \"properties\": {\n        \"dtype\": \"number\",\n        \"std\": 0.6689138091614685,\n        \"min\": 1.0,\n        \"max\": 3.0,\n        \"num_unique_values\": 3,\n        \"samples\": [\n          1.0\n        ],\n        \"semantic_type\": \"\",\n        \"description\": \"\"\n      }\n    },\n    {\n      \"column\": \"\\ud734\\uc77c \\uc804\\ub0a0\",\n      \"properties\": {\n        \"dtype\": \"number\",\n        \"std\": 0.0,\n        \"min\": 0.0,\n        \"max\": 0.0,\n        \"num_unique_values\": 1,\n        \"samples\": [\n          0.0\n        ],\n        \"semantic_type\": \"\",\n        \"description\": \"\"\n      }\n    },\n    {\n      \"column\": \"\\ud734\\uc77c \\ub2e4\\uc74c\\ub0a0\",\n      \"properties\": {\n        \"dtype\": \"number\",\n        \"std\": 0.0,\n        \"min\": 0.0,\n        \"max\": 0.0,\n        \"num_unique_values\": 1,\n        \"samples\": [\n          0.0\n        ],\n        \"semantic_type\": \"\",\n        \"description\": \"\"\n      }\n    }\n  ]\n}"
            }
          },
          "metadata": {},
          "execution_count": 591
        }
      ]
    },
    {
      "cell_type": "code",
      "source": [
        "df['학관분류메뉴'].unique()"
      ],
      "metadata": {
        "colab": {
          "base_uri": "https://localhost:8080/"
        },
        "id": "RFIqo9V4D-dM",
        "outputId": "e7d45107-9daa-49e3-ea32-6c020e59a5ed"
      },
      "execution_count": 592,
      "outputs": [
        {
          "output_type": "execute_result",
          "data": {
            "text/plain": [
              "array(['육류', '밥류', '돈까스', '비빔밥', '분식류', '면류', '찌개류', '연어', '국밥', '볶음밥'],\n",
              "      dtype=object)"
            ]
          },
          "metadata": {},
          "execution_count": 592
        }
      ]
    },
    {
      "cell_type": "code",
      "source": [
        "df.info()"
      ],
      "metadata": {
        "colab": {
          "base_uri": "https://localhost:8080/"
        },
        "id": "Duk-YUgQSa-7",
        "outputId": "48a1fc61-eeae-47cd-8409-71a00db1fe29"
      },
      "execution_count": 593,
      "outputs": [
        {
          "output_type": "stream",
          "name": "stdout",
          "text": [
            "<class 'pandas.core.frame.DataFrame'>\n",
            "Index: 131 entries, 7 to 382\n",
            "Data columns (total 10 columns):\n",
            " #   Column    Non-Null Count  Dtype  \n",
            "---  ------    --------------  -----  \n",
            " 0   학관분류메뉴    131 non-null    object \n",
            " 1   요일        131 non-null    object \n",
            " 2   학관식수      131 non-null    float64\n",
            " 3   전주 식수     131 non-null    float64\n",
            " 4   요일 평균 식수  131 non-null    int64  \n",
            " 5   명진당분류메뉴   131 non-null    object \n",
            " 6   시험끝목금     131 non-null    float64\n",
            " 7   학기번호      131 non-null    float64\n",
            " 8   휴일 전날     131 non-null    float64\n",
            " 9   휴일 다음날    131 non-null    float64\n",
            "dtypes: float64(6), int64(1), object(3)\n",
            "memory usage: 11.3+ KB\n"
          ]
        }
      ]
    },
    {
      "cell_type": "code",
      "source": [
        "df.head(1)"
      ],
      "metadata": {
        "colab": {
          "base_uri": "https://localhost:8080/",
          "height": 81
        },
        "id": "vNlImdTeTxzl",
        "outputId": "bb87d27c-5043-4094-f6be-379db2eb3935"
      },
      "execution_count": 594,
      "outputs": [
        {
          "output_type": "execute_result",
          "data": {
            "text/plain": [
              "  학관분류메뉴 요일   학관식수  전주 식수  요일 평균 식수 명진당분류메뉴  시험끝목금  학기번호  휴일 전날  휴일 다음날\n",
              "7     육류  월  587.0  482.0       522      육류    0.0   1.0    0.0     0.0"
            ],
            "text/html": [
              "\n",
              "  <div id=\"df-a00ba01f-1dee-4a93-b6c0-7b756271d163\" class=\"colab-df-container\">\n",
              "    <div>\n",
              "<style scoped>\n",
              "    .dataframe tbody tr th:only-of-type {\n",
              "        vertical-align: middle;\n",
              "    }\n",
              "\n",
              "    .dataframe tbody tr th {\n",
              "        vertical-align: top;\n",
              "    }\n",
              "\n",
              "    .dataframe thead th {\n",
              "        text-align: right;\n",
              "    }\n",
              "</style>\n",
              "<table border=\"1\" class=\"dataframe\">\n",
              "  <thead>\n",
              "    <tr style=\"text-align: right;\">\n",
              "      <th></th>\n",
              "      <th>학관분류메뉴</th>\n",
              "      <th>요일</th>\n",
              "      <th>학관식수</th>\n",
              "      <th>전주 식수</th>\n",
              "      <th>요일 평균 식수</th>\n",
              "      <th>명진당분류메뉴</th>\n",
              "      <th>시험끝목금</th>\n",
              "      <th>학기번호</th>\n",
              "      <th>휴일 전날</th>\n",
              "      <th>휴일 다음날</th>\n",
              "    </tr>\n",
              "  </thead>\n",
              "  <tbody>\n",
              "    <tr>\n",
              "      <th>7</th>\n",
              "      <td>육류</td>\n",
              "      <td>월</td>\n",
              "      <td>587.0</td>\n",
              "      <td>482.0</td>\n",
              "      <td>522</td>\n",
              "      <td>육류</td>\n",
              "      <td>0.0</td>\n",
              "      <td>1.0</td>\n",
              "      <td>0.0</td>\n",
              "      <td>0.0</td>\n",
              "    </tr>\n",
              "  </tbody>\n",
              "</table>\n",
              "</div>\n",
              "    <div class=\"colab-df-buttons\">\n",
              "\n",
              "  <div class=\"colab-df-container\">\n",
              "    <button class=\"colab-df-convert\" onclick=\"convertToInteractive('df-a00ba01f-1dee-4a93-b6c0-7b756271d163')\"\n",
              "            title=\"Convert this dataframe to an interactive table.\"\n",
              "            style=\"display:none;\">\n",
              "\n",
              "  <svg xmlns=\"http://www.w3.org/2000/svg\" height=\"24px\" viewBox=\"0 -960 960 960\">\n",
              "    <path d=\"M120-120v-720h720v720H120Zm60-500h600v-160H180v160Zm220 220h160v-160H400v160Zm0 220h160v-160H400v160ZM180-400h160v-160H180v160Zm440 0h160v-160H620v160ZM180-180h160v-160H180v160Zm440 0h160v-160H620v160Z\"/>\n",
              "  </svg>\n",
              "    </button>\n",
              "\n",
              "  <style>\n",
              "    .colab-df-container {\n",
              "      display:flex;\n",
              "      gap: 12px;\n",
              "    }\n",
              "\n",
              "    .colab-df-convert {\n",
              "      background-color: #E8F0FE;\n",
              "      border: none;\n",
              "      border-radius: 50%;\n",
              "      cursor: pointer;\n",
              "      display: none;\n",
              "      fill: #1967D2;\n",
              "      height: 32px;\n",
              "      padding: 0 0 0 0;\n",
              "      width: 32px;\n",
              "    }\n",
              "\n",
              "    .colab-df-convert:hover {\n",
              "      background-color: #E2EBFA;\n",
              "      box-shadow: 0px 1px 2px rgba(60, 64, 67, 0.3), 0px 1px 3px 1px rgba(60, 64, 67, 0.15);\n",
              "      fill: #174EA6;\n",
              "    }\n",
              "\n",
              "    .colab-df-buttons div {\n",
              "      margin-bottom: 4px;\n",
              "    }\n",
              "\n",
              "    [theme=dark] .colab-df-convert {\n",
              "      background-color: #3B4455;\n",
              "      fill: #D2E3FC;\n",
              "    }\n",
              "\n",
              "    [theme=dark] .colab-df-convert:hover {\n",
              "      background-color: #434B5C;\n",
              "      box-shadow: 0px 1px 3px 1px rgba(0, 0, 0, 0.15);\n",
              "      filter: drop-shadow(0px 1px 2px rgba(0, 0, 0, 0.3));\n",
              "      fill: #FFFFFF;\n",
              "    }\n",
              "  </style>\n",
              "\n",
              "    <script>\n",
              "      const buttonEl =\n",
              "        document.querySelector('#df-a00ba01f-1dee-4a93-b6c0-7b756271d163 button.colab-df-convert');\n",
              "      buttonEl.style.display =\n",
              "        google.colab.kernel.accessAllowed ? 'block' : 'none';\n",
              "\n",
              "      async function convertToInteractive(key) {\n",
              "        const element = document.querySelector('#df-a00ba01f-1dee-4a93-b6c0-7b756271d163');\n",
              "        const dataTable =\n",
              "          await google.colab.kernel.invokeFunction('convertToInteractive',\n",
              "                                                    [key], {});\n",
              "        if (!dataTable) return;\n",
              "\n",
              "        const docLinkHtml = 'Like what you see? Visit the ' +\n",
              "          '<a target=\"_blank\" href=https://colab.research.google.com/notebooks/data_table.ipynb>data table notebook</a>'\n",
              "          + ' to learn more about interactive tables.';\n",
              "        element.innerHTML = '';\n",
              "        dataTable['output_type'] = 'display_data';\n",
              "        await google.colab.output.renderOutput(dataTable, element);\n",
              "        const docLink = document.createElement('div');\n",
              "        docLink.innerHTML = docLinkHtml;\n",
              "        element.appendChild(docLink);\n",
              "      }\n",
              "    </script>\n",
              "  </div>\n",
              "\n",
              "\n",
              "    </div>\n",
              "  </div>\n"
            ],
            "application/vnd.google.colaboratory.intrinsic+json": {
              "type": "dataframe",
              "variable_name": "df",
              "summary": "{\n  \"name\": \"df\",\n  \"rows\": 131,\n  \"fields\": [\n    {\n      \"column\": \"\\ud559\\uad00\\ubd84\\ub958\\uba54\\ub274\",\n      \"properties\": {\n        \"dtype\": \"category\",\n        \"num_unique_values\": 10,\n        \"samples\": [\n          \"\\uad6d\\ubc25\",\n          \"\\ubc25\\ub958\",\n          \"\\uba74\\ub958\"\n        ],\n        \"semantic_type\": \"\",\n        \"description\": \"\"\n      }\n    },\n    {\n      \"column\": \"\\uc694\\uc77c\",\n      \"properties\": {\n        \"dtype\": \"category\",\n        \"num_unique_values\": 5,\n        \"samples\": [\n          \"\\ud654\",\n          \"\\uae08\",\n          \"\\uc218\"\n        ],\n        \"semantic_type\": \"\",\n        \"description\": \"\"\n      }\n    },\n    {\n      \"column\": \"\\ud559\\uad00\\uc2dd\\uc218\",\n      \"properties\": {\n        \"dtype\": \"number\",\n        \"std\": 140.29142640156272,\n        \"min\": 134.0,\n        \"max\": 723.0,\n        \"num_unique_values\": 114,\n        \"samples\": [\n          526.0,\n          134.0,\n          533.0\n        ],\n        \"semantic_type\": \"\",\n        \"description\": \"\"\n      }\n    },\n    {\n      \"column\": \"\\uc804\\uc8fc \\uc2dd\\uc218\",\n      \"properties\": {\n        \"dtype\": \"number\",\n        \"std\": 138.73611106841068,\n        \"min\": 121.0,\n        \"max\": 691.0,\n        \"num_unique_values\": 110,\n        \"samples\": [\n          475.0,\n          522.0,\n          180.0\n        ],\n        \"semantic_type\": \"\",\n        \"description\": \"\"\n      }\n    },\n    {\n      \"column\": \"\\uc694\\uc77c \\ud3c9\\uade0 \\uc2dd\\uc218\",\n      \"properties\": {\n        \"dtype\": \"number\",\n        \"std\": 113,\n        \"min\": 218,\n        \"max\": 528,\n        \"num_unique_values\": 5,\n        \"samples\": [\n          528,\n          218,\n          495\n        ],\n        \"semantic_type\": \"\",\n        \"description\": \"\"\n      }\n    },\n    {\n      \"column\": \"\\uba85\\uc9c4\\ub2f9\\ubd84\\ub958\\uba54\\ub274\",\n      \"properties\": {\n        \"dtype\": \"category\",\n        \"num_unique_values\": 15,\n        \"samples\": [\n          \"\\ube75\",\n          \"\\ubd80\\ub300\\ubcf6\\uc74c\",\n          \"\\uc721\\ub958\"\n        ],\n        \"semantic_type\": \"\",\n        \"description\": \"\"\n      }\n    },\n    {\n      \"column\": \"\\uc2dc\\ud5d8\\ub05d\\ubaa9\\uae08\",\n      \"properties\": {\n        \"dtype\": \"number\",\n        \"std\": 0.0,\n        \"min\": 0.0,\n        \"max\": 0.0,\n        \"num_unique_values\": 1,\n        \"samples\": [\n          0.0\n        ],\n        \"semantic_type\": \"\",\n        \"description\": \"\"\n      }\n    },\n    {\n      \"column\": \"\\ud559\\uae30\\ubc88\\ud638\",\n      \"properties\": {\n        \"dtype\": \"number\",\n        \"std\": 0.6689138091614685,\n        \"min\": 1.0,\n        \"max\": 3.0,\n        \"num_unique_values\": 3,\n        \"samples\": [\n          1.0\n        ],\n        \"semantic_type\": \"\",\n        \"description\": \"\"\n      }\n    },\n    {\n      \"column\": \"\\ud734\\uc77c \\uc804\\ub0a0\",\n      \"properties\": {\n        \"dtype\": \"number\",\n        \"std\": 0.0,\n        \"min\": 0.0,\n        \"max\": 0.0,\n        \"num_unique_values\": 1,\n        \"samples\": [\n          0.0\n        ],\n        \"semantic_type\": \"\",\n        \"description\": \"\"\n      }\n    },\n    {\n      \"column\": \"\\ud734\\uc77c \\ub2e4\\uc74c\\ub0a0\",\n      \"properties\": {\n        \"dtype\": \"number\",\n        \"std\": 0.0,\n        \"min\": 0.0,\n        \"max\": 0.0,\n        \"num_unique_values\": 1,\n        \"samples\": [\n          0.0\n        ],\n        \"semantic_type\": \"\",\n        \"description\": \"\"\n      }\n    }\n  ]\n}"
            }
          },
          "metadata": {},
          "execution_count": 594
        }
      ]
    },
    {
      "cell_type": "code",
      "source": [
        "df = pd.get_dummies(df, columns=['요일', '명진당분류메뉴', '학관분류메뉴'])"
      ],
      "metadata": {
        "id": "t2SnWJqXpFMQ"
      },
      "execution_count": 595,
      "outputs": []
    },
    {
      "cell_type": "code",
      "source": [
        "df.info()"
      ],
      "metadata": {
        "colab": {
          "base_uri": "https://localhost:8080/"
        },
        "id": "KMwRCJMbn33z",
        "outputId": "e99092d7-82e2-4ca1-f5b8-cfa18a60a7ad"
      },
      "execution_count": 596,
      "outputs": [
        {
          "output_type": "stream",
          "name": "stdout",
          "text": [
            "<class 'pandas.core.frame.DataFrame'>\n",
            "Index: 131 entries, 7 to 382\n",
            "Data columns (total 37 columns):\n",
            " #   Column        Non-Null Count  Dtype  \n",
            "---  ------        --------------  -----  \n",
            " 0   학관식수          131 non-null    float64\n",
            " 1   전주 식수         131 non-null    float64\n",
            " 2   요일 평균 식수      131 non-null    int64  \n",
            " 3   시험끝목금         131 non-null    float64\n",
            " 4   학기번호          131 non-null    float64\n",
            " 5   휴일 전날         131 non-null    float64\n",
            " 6   휴일 다음날        131 non-null    float64\n",
            " 7   요일_금          131 non-null    bool   \n",
            " 8   요일_목          131 non-null    bool   \n",
            " 9   요일_수          131 non-null    bool   \n",
            " 10  요일_월          131 non-null    bool   \n",
            " 11  요일_화          131 non-null    bool   \n",
            " 12  명진당분류메뉴_국밥    131 non-null    bool   \n",
            " 13  명진당분류메뉴_국수    131 non-null    bool   \n",
            " 14  명진당분류메뉴_돈까스   131 non-null    bool   \n",
            " 15  명진당분류메뉴_맑은국   131 non-null    bool   \n",
            " 16  명진당분류메뉴_면류    131 non-null    bool   \n",
            " 17  명진당분류메뉴_밥류    131 non-null    bool   \n",
            " 18  명진당분류메뉴_볶음    131 non-null    bool   \n",
            " 19  명진당분류메뉴_부대볶음  131 non-null    bool   \n",
            " 20  명진당분류메뉴_분식류   131 non-null    bool   \n",
            " 21  명진당분류메뉴_비빔밥   131 non-null    bool   \n",
            " 22  명진당분류메뉴_빵     131 non-null    bool   \n",
            " 23  명진당분류메뉴_육개장   131 non-null    bool   \n",
            " 24  명진당분류메뉴_육류    131 non-null    bool   \n",
            " 25  명진당분류메뉴_전골류   131 non-null    bool   \n",
            " 26  명진당분류메뉴_찌개    131 non-null    bool   \n",
            " 27  학관분류메뉴_국밥     131 non-null    bool   \n",
            " 28  학관분류메뉴_돈까스    131 non-null    bool   \n",
            " 29  학관분류메뉴_면류     131 non-null    bool   \n",
            " 30  학관분류메뉴_밥류     131 non-null    bool   \n",
            " 31  학관분류메뉴_볶음밥    131 non-null    bool   \n",
            " 32  학관분류메뉴_분식류    131 non-null    bool   \n",
            " 33  학관분류메뉴_비빔밥    131 non-null    bool   \n",
            " 34  학관분류메뉴_연어     131 non-null    bool   \n",
            " 35  학관분류메뉴_육류     131 non-null    bool   \n",
            " 36  학관분류메뉴_찌개류    131 non-null    bool   \n",
            "dtypes: bool(30), float64(6), int64(1)\n",
            "memory usage: 12.0 KB\n"
          ]
        }
      ]
    },
    {
      "cell_type": "markdown",
      "source": [
        "[]"
      ],
      "metadata": {
        "id": "jko0e-w1PzN1"
      }
    },
    {
      "cell_type": "code",
      "source": [
        "from sklearn.preprocessing import MinMaxScaler\n",
        "\n",
        "# MinMaxScaler 객체 생성\n",
        "scaler = MinMaxScaler()\n",
        "\n",
        "# 수치형 컬럼 선택 (타겟 컬럼 '식수' 제외)\n",
        "numeric_columns = df.select_dtypes(include=['float64']).columns.drop('학관식수')\n",
        "\n",
        "# 스케일링 적용\n",
        "df[numeric_columns] = scaler.fit_transform(df[numeric_columns])\n",
        "data = df\n",
        "\n"
      ],
      "metadata": {
        "id": "LYVHBFExn31u"
      },
      "execution_count": 597,
      "outputs": []
    },
    {
      "cell_type": "code",
      "source": [],
      "metadata": {
        "id": "8si-hyngkalP"
      },
      "execution_count": 597,
      "outputs": []
    },
    {
      "cell_type": "code",
      "source": [
        "data.info()"
      ],
      "metadata": {
        "colab": {
          "base_uri": "https://localhost:8080/"
        },
        "id": "SL6mqaIEjTVb",
        "outputId": "e5986f0c-d258-4a7b-c901-aba30cae57eb"
      },
      "execution_count": 598,
      "outputs": [
        {
          "output_type": "stream",
          "name": "stdout",
          "text": [
            "<class 'pandas.core.frame.DataFrame'>\n",
            "Index: 131 entries, 7 to 382\n",
            "Data columns (total 37 columns):\n",
            " #   Column        Non-Null Count  Dtype  \n",
            "---  ------        --------------  -----  \n",
            " 0   학관식수          131 non-null    float64\n",
            " 1   전주 식수         131 non-null    float64\n",
            " 2   요일 평균 식수      131 non-null    int64  \n",
            " 3   시험끝목금         131 non-null    float64\n",
            " 4   학기번호          131 non-null    float64\n",
            " 5   휴일 전날         131 non-null    float64\n",
            " 6   휴일 다음날        131 non-null    float64\n",
            " 7   요일_금          131 non-null    bool   \n",
            " 8   요일_목          131 non-null    bool   \n",
            " 9   요일_수          131 non-null    bool   \n",
            " 10  요일_월          131 non-null    bool   \n",
            " 11  요일_화          131 non-null    bool   \n",
            " 12  명진당분류메뉴_국밥    131 non-null    bool   \n",
            " 13  명진당분류메뉴_국수    131 non-null    bool   \n",
            " 14  명진당분류메뉴_돈까스   131 non-null    bool   \n",
            " 15  명진당분류메뉴_맑은국   131 non-null    bool   \n",
            " 16  명진당분류메뉴_면류    131 non-null    bool   \n",
            " 17  명진당분류메뉴_밥류    131 non-null    bool   \n",
            " 18  명진당분류메뉴_볶음    131 non-null    bool   \n",
            " 19  명진당분류메뉴_부대볶음  131 non-null    bool   \n",
            " 20  명진당분류메뉴_분식류   131 non-null    bool   \n",
            " 21  명진당분류메뉴_비빔밥   131 non-null    bool   \n",
            " 22  명진당분류메뉴_빵     131 non-null    bool   \n",
            " 23  명진당분류메뉴_육개장   131 non-null    bool   \n",
            " 24  명진당분류메뉴_육류    131 non-null    bool   \n",
            " 25  명진당분류메뉴_전골류   131 non-null    bool   \n",
            " 26  명진당분류메뉴_찌개    131 non-null    bool   \n",
            " 27  학관분류메뉴_국밥     131 non-null    bool   \n",
            " 28  학관분류메뉴_돈까스    131 non-null    bool   \n",
            " 29  학관분류메뉴_면류     131 non-null    bool   \n",
            " 30  학관분류메뉴_밥류     131 non-null    bool   \n",
            " 31  학관분류메뉴_볶음밥    131 non-null    bool   \n",
            " 32  학관분류메뉴_분식류    131 non-null    bool   \n",
            " 33  학관분류메뉴_비빔밥    131 non-null    bool   \n",
            " 34  학관분류메뉴_연어     131 non-null    bool   \n",
            " 35  학관분류메뉴_육류     131 non-null    bool   \n",
            " 36  학관분류메뉴_찌개류    131 non-null    bool   \n",
            "dtypes: bool(30), float64(6), int64(1)\n",
            "memory usage: 12.0 KB\n"
          ]
        }
      ]
    },
    {
      "cell_type": "code",
      "source": [
        "import numpy as np\n",
        "import pandas as pd\n",
        "from sklearn.model_selection import train_test_split\n",
        "from sklearn.preprocessing import StandardScaler\n",
        "from sklearn.linear_model import Lasso, Ridge, LinearRegression\n",
        "from sklearn.ensemble import GradientBoostingRegressor, BaggingRegressor, RandomForestRegressor\n",
        "from sklearn.metrics import mean_squared_error\n",
        "\n",
        "# 타겟 데이터('식수')와 특성 데이터 분리\n",
        "y = data['학관식수'].values\n",
        "X = data.drop('학관식수', axis=1).values\n",
        "\n",
        "\n",
        "# 데이터 분할\n",
        "X_train, X_test, y_train, y_test = train_test_split(X, y, test_size=0.2, random_state=0)\n",
        "\n",
        "# 모델 정의\n",
        "models = {\n",
        "    'Lasso': Lasso(),\n",
        "    'Ridge': Ridge(),\n",
        "    'GradientBoosting': GradientBoostingRegressor(),\n",
        "    'Bagging': BaggingRegressor(),\n",
        "    'RandomForest': RandomForestRegressor(),\n",
        "    'LinearRegression': LinearRegression()\n",
        "}\n",
        "\n",
        "# 모델 학습 및 평가\n",
        "results = {}\n",
        "for name, model in models.items():\n",
        "    model.fit(X_train, y_train)\n",
        "    predictions = model.predict(X_test)\n",
        "    mse = mean_squared_error(y_test, predictions)\n",
        "    results[name] = mse\n",
        "\n",
        "    # 정답 처리 로직\n",
        "    correct_predictions = np.abs(predictions - y_test) <= 50\n",
        "    accuracy = np.mean(correct_predictions)\n",
        "    print(f\"{name} 모델 정답률 (±50): {accuracy * 100:.2f}%\")\n",
        "\n",
        "# 오차율이 가장 낮은 모델 선택\n",
        "best_model = min(results, key=results.get)\n",
        "print(f\"가장 오차율이 낮은 모델: {best_model} (MSE: {results[best_model]:.2f})\")"
      ],
      "metadata": {
        "id": "b0zbMVwRn3zt",
        "colab": {
          "base_uri": "https://localhost:8080/"
        },
        "outputId": "5eef541b-eb3c-4bb9-c71c-b5dea381ae09"
      },
      "execution_count": 599,
      "outputs": [
        {
          "output_type": "stream",
          "name": "stdout",
          "text": [
            "Lasso 모델 정답률 (±50): 62.96%\n",
            "Ridge 모델 정답률 (±50): 40.74%\n",
            "GradientBoosting 모델 정답률 (±50): 70.37%\n",
            "Bagging 모델 정답률 (±50): 59.26%\n",
            "RandomForest 모델 정답률 (±50): 74.07%\n",
            "LinearRegression 모델 정답률 (±50): 40.74%\n",
            "가장 오차율이 낮은 모델: RandomForest (MSE: 2932.92)\n"
          ]
        }
      ]
    },
    {
      "cell_type": "code",
      "source": [],
      "metadata": {
        "id": "N0fLmzl4vi5D"
      },
      "execution_count": null,
      "outputs": []
    },
    {
      "cell_type": "code",
      "source": [
        "X_train.info()"
      ],
      "metadata": {
        "colab": {
          "base_uri": "https://localhost:8080/"
        },
        "id": "TB-Q4Ul7hB7Z",
        "outputId": "dcb84b62-7364-4a40-c333-e4f87c74a1f9"
      },
      "execution_count": null,
      "outputs": [
        {
          "output_type": "stream",
          "name": "stdout",
          "text": [
            "<class 'pandas.core.frame.DataFrame'>\n",
            "Index: 104 entries, 214 to 261\n",
            "Data columns (total 22 columns):\n",
            " #   Column    Non-Null Count  Dtype  \n",
            "---  ------    --------------  -----  \n",
            " 0   요일        104 non-null    object \n",
            " 1   전주 식수     104 non-null    float64\n",
            " 2   요일 평균 식수  104 non-null    float64\n",
            " 3   시험기간      104 non-null    float64\n",
            " 4   축제유무      104 non-null    float64\n",
            " 5   간식배부      104 non-null    float64\n",
            " 6   예비군유무     104 non-null    float64\n",
            " 7   분류메뉴      104 non-null    object \n",
            " 8   주차        104 non-null    float64\n",
            " 9   학관분류메뉴    104 non-null    object \n",
            " 10  방학유무      104 non-null    float64\n",
            " 11  개강주       104 non-null    float64\n",
            " 12  종강주       104 non-null    float64\n",
            " 13  시험끝목금     104 non-null    float64\n",
            " 14  학관식수      104 non-null    float64\n",
            " 15  공휴일유무     104 non-null    float64\n",
            " 16  학기번호      104 non-null    float64\n",
            " 17  휴일 전날     104 non-null    float64\n",
            " 18  휴일 다음날    104 non-null    float64\n",
            " 19  연휴 전날     104 non-null    float64\n",
            " 20  연휴 다음날    104 non-null    float64\n",
            " 21  매움        104 non-null    float64\n",
            "dtypes: float64(19), object(3)\n",
            "memory usage: 18.7+ KB\n"
          ]
        }
      ]
    },
    {
      "cell_type": "code",
      "source": [
        "import pandas as pd\n",
        "from sklearn.model_selection import train_test_split\n",
        "from sklearn.linear_model import Ridge\n",
        "from sklearn.pipeline import Pipeline\n",
        "from sklearn.preprocessing import MinMaxScaler, OneHotEncoder\n",
        "from sklearn.compose import ColumnTransformer\n",
        "import joblib\n",
        "\n",
        "\n",
        "# 타겟 변수와 피처 분리\n",
        "X = data.drop('식수', axis=1)\n",
        "y = data['식수']\n",
        "\n",
        "# 훈련 데이터와 테스트 데이터 분리\n",
        "X_train, X_test, y_train, y_test = train_test_split(X, y, test_size=0.2, random_state=42)\n",
        "\n",
        "# 수치형 컬럼과 범주형 컬럼 분리\n",
        "numeric_features = X.select_dtypes(include=['float64']).columns.tolist()\n",
        "categorical_features = ['요일', '분류메뉴', '학관분류메뉴']\n",
        "\n",
        "# 전처리 파이프라인 생성\n",
        "numeric_transformer = Pipeline(steps=[\n",
        "    ('scaler', MinMaxScaler())\n",
        "])\n",
        "\n",
        "categorical_transformer = Pipeline(steps=[\n",
        "    ('onehot', OneHotEncoder(handle_unknown='ignore'))\n",
        "])\n",
        "\n",
        "preprocessor = ColumnTransformer(\n",
        "    transformers=[\n",
        "        ('num', numeric_transformer, numeric_features),\n",
        "        ('cat', categorical_transformer, categorical_features)\n",
        "    ])\n",
        "\n",
        "# Ridge 회귀 모델 파이프라인 생성\n",
        "ridge_pipeline = Pipeline(steps=[('preprocessor', preprocessor),\n",
        "                                 ('regressor', Ridge())])\n",
        "\n",
        "# 모델 학습\n",
        "ridge_pipeline.fit(X_train, y_train)\n",
        "\n",
        "# 모델 저장\n",
        "joblib.dump(ridge_pipeline, 'ridge_model_pipeline.joblib')\n",
        "\n",
        "print(\"모델 학습 및 저장 완료!\")\n"
      ],
      "metadata": {
        "colab": {
          "base_uri": "https://localhost:8080/"
        },
        "id": "PkrKjN7747iV",
        "outputId": "336ff64d-fea2-4428-ffdf-571d356c702b"
      },
      "execution_count": null,
      "outputs": [
        {
          "output_type": "stream",
          "name": "stdout",
          "text": [
            "모델 학습 및 저장 완료!\n"
          ]
        }
      ]
    },
    {
      "cell_type": "code",
      "source": [
        "import pandas as pd\n",
        "\n",
        "pd.DataFrame(X_train).info()"
      ],
      "metadata": {
        "colab": {
          "base_uri": "https://localhost:8080/"
        },
        "id": "2CaAMr-FieYK",
        "outputId": "7b0e9f3d-2c8c-4433-b956-8f245b9b01f3"
      },
      "execution_count": null,
      "outputs": [
        {
          "output_type": "stream",
          "name": "stdout",
          "text": [
            "<class 'pandas.core.frame.DataFrame'>\n",
            "RangeIndex: 62 entries, 0 to 61\n",
            "Data columns (total 36 columns):\n",
            " #   Column  Non-Null Count  Dtype \n",
            "---  ------  --------------  ----- \n",
            " 0   0       62 non-null     object\n",
            " 1   1       62 non-null     object\n",
            " 2   2       62 non-null     object\n",
            " 3   3       62 non-null     object\n",
            " 4   4       62 non-null     object\n",
            " 5   5       62 non-null     object\n",
            " 6   6       62 non-null     object\n",
            " 7   7       62 non-null     object\n",
            " 8   8       62 non-null     object\n",
            " 9   9       62 non-null     object\n",
            " 10  10      62 non-null     object\n",
            " 11  11      62 non-null     object\n",
            " 12  12      62 non-null     object\n",
            " 13  13      62 non-null     object\n",
            " 14  14      62 non-null     object\n",
            " 15  15      62 non-null     object\n",
            " 16  16      62 non-null     object\n",
            " 17  17      62 non-null     object\n",
            " 18  18      62 non-null     object\n",
            " 19  19      62 non-null     object\n",
            " 20  20      62 non-null     object\n",
            " 21  21      62 non-null     object\n",
            " 22  22      62 non-null     object\n",
            " 23  23      62 non-null     object\n",
            " 24  24      62 non-null     object\n",
            " 25  25      62 non-null     object\n",
            " 26  26      62 non-null     object\n",
            " 27  27      62 non-null     object\n",
            " 28  28      62 non-null     object\n",
            " 29  29      62 non-null     object\n",
            " 30  30      62 non-null     object\n",
            " 31  31      62 non-null     object\n",
            " 32  32      62 non-null     object\n",
            " 33  33      62 non-null     object\n",
            " 34  34      62 non-null     object\n",
            " 35  35      62 non-null     object\n",
            "dtypes: object(36)\n",
            "memory usage: 17.6+ KB\n"
          ]
        }
      ]
    },
    {
      "cell_type": "markdown",
      "source": [
        "model = joblib.load('tam.joblib') 이렇게 쓰면 됨.\n",
        "\n",
        "# 불러온 모델을 사용하여 예측하기\n",
        "predictions = loaded_model.predict(X_new)\n",
        "\n",
        "# 예측 결과 출력하기\n",
        "print(predictions)"
      ],
      "metadata": {
        "id": "AhyBZ9AiR49i"
      }
    }
  ]
}